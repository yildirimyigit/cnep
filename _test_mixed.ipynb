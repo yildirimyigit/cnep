{
 "cells": [
  {
   "cell_type": "code",
   "execution_count": 1,
   "metadata": {},
   "outputs": [],
   "source": [
    "import torch\n",
    "import torch.nn as nn\n",
    "\n",
    "from models.wta_cnp import WTA_CNP"
   ]
  },
  {
   "cell_type": "code",
   "execution_count": 2,
   "metadata": {},
   "outputs": [],
   "source": [
    "model = WTA_CNP(1, 1, 10, 10, [256, 256, 256], num_decoders=2, decoder_hidden_dims=[128, 128], batch_size=1)\n",
    "\n",
    "optimizer_wta = torch.optim.Adam(lr=1e-4, params=model.parameters())"
   ]
  },
  {
   "cell_type": "code",
   "execution_count": 13,
   "metadata": {},
   "outputs": [
    {
     "name": "stdout",
     "output_type": "stream",
     "text": [
      "tensor([[[ 0.0677, -0.0468,  0.0210,  ...,  0.0356,  0.0416, -0.0292],\n",
      "         [ 0.0667,  0.0714,  0.0612,  ...,  0.1168,  0.0055, -0.0330],\n",
      "         [ 0.0917, -0.0167,  0.0386,  ...,  0.0267,  0.0123, -0.0341],\n",
      "         [ 0.1197,  0.0088,  0.0888,  ...,  0.0967, -0.0128,  0.0088],\n",
      "         [ 0.1003,  0.0129,  0.0799,  ...,  0.0950, -0.0102, -0.0051]]],\n",
      "       grad_fn=<ViewBackward0>)\n",
      "tensor(0.9446, grad_fn=<MeanBackward0>) tensor(0.2476, grad_fn=<MeanBackward0>) tensor([0.6883], grad_fn=<NegBackward0>) tensor(0.0693, grad_fn=<StdBackward0>)\n"
     ]
    }
   ],
   "source": [
    "o = torch.rand(1,5,2)\n",
    "t = torch.rand(1,3,1)\n",
    "\n",
    "optimizer_wta.zero_grad()\n",
    "p,g = model(o,t)\n",
    "l, n = model.loss(p,g,t)\n",
    "l.backward()\n",
    "\n",
    "optimizer_wta.step()\n"
   ]
  },
  {
   "cell_type": "code",
   "execution_count": null,
   "metadata": {},
   "outputs": [],
   "source": []
  },
  {
   "cell_type": "code",
   "execution_count": null,
   "metadata": {},
   "outputs": [],
   "source": []
  }
 ],
 "metadata": {
  "kernelspec": {
   "display_name": "Python 3",
   "language": "python",
   "name": "python3"
  },
  "language_info": {
   "codemirror_mode": {
    "name": "ipython",
    "version": 3
   },
   "file_extension": ".py",
   "mimetype": "text/x-python",
   "name": "python",
   "nbconvert_exporter": "python",
   "pygments_lexer": "ipython3",
   "version": "3.8.10"
  },
  "orig_nbformat": 4
 },
 "nbformat": 4,
 "nbformat_minor": 2
}
