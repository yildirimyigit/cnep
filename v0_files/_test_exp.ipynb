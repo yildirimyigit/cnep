{
 "cells": [
  {
   "cell_type": "code",
   "execution_count": 1,
   "metadata": {},
   "outputs": [
    {
     "name": "stdout",
     "output_type": "stream",
     "text": [
      "torch.Size([3, 698, 62])\n"
     ]
    }
   ],
   "source": [
    "import dm_control.suite as suite\n",
    "import numpy as np\n",
    "import torch\n",
    "\n",
    "# Load the motion capture data\n",
    "def read_frames_from_file(file_path):\n",
    "    with open(file_path, 'r') as file:\n",
    "        lines = file.readlines()\n",
    "\n",
    "    frames = []\n",
    "    current_frame = []\n",
    "\n",
    "    for line in lines:\n",
    "        if line.strip().isdigit():\n",
    "            # New frame, save the previous one\n",
    "            if current_frame:\n",
    "                frames.append(current_frame)\n",
    "            current_frame = []\n",
    "        else:\n",
    "            # Extract numerical values from each line\n",
    "            values = [float(val) for val in line.strip().split()[1:]]\n",
    "            current_frame.extend(values)\n",
    "\n",
    "    # Add the last frame\n",
    "    if current_frame:\n",
    "        frames.append(current_frame)\n",
    "\n",
    "    return torch.tensor(frames)\n",
    "\n",
    "file_path = 'experimental/data/0.txt'\n",
    "data0 = read_frames_from_file(file_path)\n",
    "file_path = 'experimental/data/1.txt'\n",
    "data1 = read_frames_from_file(file_path)\n",
    "file_path = 'experimental/data/2.txt'\n",
    "data2 = read_frames_from_file(file_path)\n",
    "\n",
    "min_frames = min(data0.shape[0], data1.shape[0], data2.shape[0])\n",
    "\n",
    "data = torch.zeros((3, min_frames, data0.shape[1]))\n",
    "data[0] = data0[torch.linspace(0, data0.shape[0] - 1, min_frames).long()]\n",
    "data[1] = data1[torch.linspace(0, data1.shape[0] - 1, min_frames).long()]\n",
    "data[2] = data2[torch.linspace(0, data2.shape[0] - 1, min_frames).long()]\n",
    "\n",
    "print(data.shape)"
   ]
  },
  {
   "cell_type": "code",
   "execution_count": 2,
   "metadata": {},
   "outputs": [],
   "source": [
    "num_samples, t_steps, dy = data.shape\n",
    "dx = 1\n",
    "batch_size = 1\n",
    "\n",
    "x = torch.linspace(0, 1, t_steps).repeat(batch_size, 1).view(batch_size, -1, 1)"
   ]
  },
  {
   "cell_type": "code",
   "execution_count": 4,
   "metadata": {},
   "outputs": [
    {
     "name": "stdout",
     "output_type": "stream",
     "text": [
      "env: MUJOCO_GL=egl\n"
     ]
    }
   ],
   "source": [
    "%env MUJOCO_GL=egl\n",
    "\n",
    "# Create the humanoid environment\n",
    "env = suite.load(domain_name=\"humanoid_CMU\", task_name=\"stand\")\n",
    "\n",
    "# Reset the environment to its initial state\n",
    "time_step = env.reset()\n",
    "\n",
    "test_id = 0\n",
    "\n",
    "# Iterate through the motion capture data\n",
    "for i in range(t_steps):\n",
    "    # Apply the motion capture data to the humanoid model\n",
    "\n",
    "    torso_info = data[test_id, i, :6].numpy()\n",
    "    joint_info = data[test_id, i, 6:].numpy()\n",
    "\n",
    "    # Combine torso and joint information into a single action list\n",
    "    action = np.concatenate([torso_info, joint_info]).tolist()\n",
    "\n",
    "    # Step the environment\n",
    "    time_step = env.step(joint_info)\n",
    "\n",
    "    # You may want to add a delay or control the playback speed here\n",
    "\n",
    "    # Render the environment\n",
    "    env.physics.render()\n",
    "\n",
    "# Close the environment\n",
    "env.close()"
   ]
  },
  {
   "cell_type": "code",
   "execution_count": null,
   "metadata": {},
   "outputs": [],
   "source": []
  }
 ],
 "metadata": {
  "kernelspec": {
   "display_name": "591",
   "language": "python",
   "name": "python3"
  },
  "language_info": {
   "codemirror_mode": {
    "name": "ipython",
    "version": 3
   },
   "file_extension": ".py",
   "mimetype": "text/x-python",
   "name": "python",
   "nbconvert_exporter": "python",
   "pygments_lexer": "ipython3",
   "version": "3.10.10"
  }
 },
 "nbformat": 4,
 "nbformat_minor": 2
}
