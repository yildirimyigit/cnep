{
 "cells": [
  {
   "cell_type": "code",
   "execution_count": 1,
   "metadata": {},
   "outputs": [
    {
     "name": "stdout",
     "output_type": "stream",
     "text": [
      "device: cuda:0\n"
     ]
    }
   ],
   "source": [
    "from models.cnp import CNP\n",
    "import torch\n",
    "\n",
    "if torch.cuda.is_available():\n",
    "    device = torch.device(\"cuda:0\")\n",
    "else:\n",
    "    device = torch.device(\"cpu\")\n",
    "# device = torch.device(\"cpu\")\n",
    "\n",
    "print(\"device:\", device)"
   ]
  },
  {
   "cell_type": "code",
   "execution_count": 2,
   "metadata": {},
   "outputs": [],
   "source": [
    "batch_size = 64\n",
    "n_max, m_max = 10, 10\n",
    "t_steps = 200\n",
    "\n",
    "num_train, num_val = 1024, 128\n",
    "\n",
    "dx, dy = 10, 10\n",
    "\n",
    "def continuous_function(x):\n",
    "    y = torch.sin(x) + torch.cos(x)**2 + torch.tanh(x)\n",
    "    return y"
   ]
  },
  {
   "cell_type": "code",
   "execution_count": 3,
   "metadata": {},
   "outputs": [
    {
     "name": "stdout",
     "output_type": "stream",
     "text": [
      "torch.Size([1024, 200, 20]) torch.Size([1024, 200, 20])\n",
      "torch.Size([128, 200, 20]) torch.Size([128, 200, 20])\n"
     ]
    }
   ],
   "source": [
    "x = torch.rand(num_train, t_steps, dx)\n",
    "y = continuous_function(x)\n",
    "\n",
    "vx = torch.rand(num_val, t_steps, dx)\n",
    "vy = continuous_function(vx)\n",
    "\n",
    "x, y = x.to(device), y.to(device)\n",
    "vx, vy = vx.to(device), vy.to(device)\n",
    "\n",
    "print(x.shape, y.shape)\n",
    "print(vx.shape, vy.shape)"
   ]
  },
  {
   "cell_type": "code",
   "execution_count": 4,
   "metadata": {},
   "outputs": [],
   "source": [
    "model_ = CNP(input_dim=dx, hidden_dim=512, output_dim=dy, n_max_obs=n_max, n_max_tar=m_max, num_layers=3, batch_size=batch_size).to(device)\n",
    "optimizer = torch.optim.Adam(lr=1e-4, params=model_.parameters())\n",
    "\n",
    "if torch.__version__ >= \"2.0\":\n",
    "    model = torch.compile(model_)"
   ]
  },
  {
   "cell_type": "code",
   "execution_count": 5,
   "metadata": {},
   "outputs": [],
   "source": [
    "def get_batch(x, y, traj_ids, device=device):\n",
    "    n_o = torch.randint(1, n_max, (1,)).item()\n",
    "    n_t = torch.randint(1, m_max, (1,)).item()\n",
    "    \n",
    "    tar = torch.zeros(batch_size, n_t, dx, device=device)\n",
    "    tar_val = torch.zeros(batch_size, n_t, dy, device=device)\n",
    "    obs = torch.zeros(batch_size, n_o, dx+dy, device=device)\n",
    "\n",
    "    for i in range(len(traj_ids)):\n",
    "        random_query_ids = torch.randperm(t_steps)\n",
    "        \n",
    "        o_ids = random_query_ids[:n_o]\n",
    "        t_ids = random_query_ids[n_o:n_o+n_t]\n",
    "\n",
    "        obs[i, :, :] = torch.cat((x[traj_ids[i], o_ids], y[traj_ids[i], o_ids]), dim=-1)\n",
    "        tar[i, :, :] = x[traj_ids[i], t_ids]\n",
    "        tar_val[i, :, :] = y[traj_ids[i], t_ids]\n",
    "\n",
    "    return obs, tar, tar_val\n",
    "\n",
    "def get_validation_batch(vx, vy, traj_ids, device=device):\n",
    "    num_obs = torch.randint(1, n_max, (1,)).item()\n",
    "\n",
    "    obs = torch.zeros(batch_size, num_obs, dx+dy, device=device)\n",
    "    tar = torch.zeros(batch_size, t_steps, dx, device=device)\n",
    "    tar_val = torch.zeros(batch_size, t_steps, dy, device=device)\n",
    "\n",
    "    for i in range(len(traj_ids)):\n",
    "        random_query_ids = torch.randperm(t_steps)\n",
    "        o_ids = random_query_ids[:num_obs]\n",
    "\n",
    "        obs[i, :, :] = torch.cat((vx[traj_ids[i], o_ids], vy[traj_ids[i], o_ids]), dim=-1)\n",
    "        tar[i, :, :] = vx[traj_ids[i]]\n",
    "        tar_val[i, :, :] = vy[traj_ids[i]]\n",
    "\n",
    "    return obs, tar, tar_val"
   ]
  },
  {
   "cell_type": "code",
   "execution_count": 6,
   "metadata": {},
   "outputs": [
    {
     "name": "stderr",
     "output_type": "stream",
     "text": [
      "/home/yigit/.local/lib/python3.8/site-packages/torch/_inductor/compile_fx.py:90: UserWarning: TensorFloat32 tensor cores for float32 matrix multiplication available but not enabled. Consider setting `torch.set_float32_matmul_precision('high')` for better performance.\n",
      "  warnings.warn(\n"
     ]
    },
    {
     "name": "stdout",
     "output_type": "stream",
     "text": [
      "Epoch: 0, Loss: 0.0016415189877152442\n"
     ]
    },
    {
     "name": "stderr",
     "output_type": "stream",
     "text": [
      "[2024-03-13 20:57:17,176] torch._dynamo.convert_frame: [WARNING] torch._dynamo hit config.cache_size_limit (64)\n",
      "   function: 'forward' (/home/yigit/projects/mbcnp/models/cnp.py:35)\n",
      "   reasons:  tensor 'obs' strides mismatch at index 0. expected 320, actual 280\n",
      "to diagnose recompilation issues, see https://pytorch.org/docs/master/dynamo/troubleshooting.html.\n"
     ]
    },
    {
     "name": "stdout",
     "output_type": "stream",
     "text": [
      "Epoch: 1000, Loss: 0.5593989408612251\n"
     ]
    }
   ],
   "source": [
    "import time\n",
    "import os\n",
    "\n",
    "torch._dynamo.config.suppress_errors = True\n",
    "\n",
    "timestamp = int(time.time())\n",
    "root_folder = f'outputs/test/{str(timestamp)}/'\n",
    "\n",
    "if not os.path.exists(root_folder):\n",
    "    os.makedirs(root_folder)\n",
    "\n",
    "if not os.path.exists(f'{root_folder}saved_model/'):\n",
    "    os.makedirs(f'{root_folder}saved_model/')\n",
    "\n",
    "# if not os.path.exists(f'{root_folder}img/'):\n",
    "#     os.makedirs(f'{root_folder}img/')\n",
    "\n",
    "# torch.save(y, f'{root_folder}y.pt')\n",
    "\n",
    "\n",
    "epochs = 5_000_000\n",
    "epoch_iter = num_train//batch_size  # number of batches per epoch (e.g. 100//32 = 3)\n",
    "v_epoch_iter = num_val//batch_size  # number of batches per validation (e.g. 100//32 = 3)\n",
    "\n",
    "val_per_epoch = 1000  # validation frequency\n",
    "min_val_loss = 1_000_000\n",
    "\n",
    "mse_loss = torch.nn.MSELoss()\n",
    "\n",
    "training_loss, validation_error = [], []\n",
    "avg_loss = 0\n",
    "\n",
    "tr_loss_path = f'{root_folder}training_loss.pt'\n",
    "val_err_path = f'{root_folder}validation_error.pt'\n",
    "\n",
    "for epoch in range(epochs):\n",
    "    epoch_loss = 0\n",
    "\n",
    "    traj_ids = torch.randperm(num_train)[:batch_size*epoch_iter].chunk(epoch_iter)  # [:batch_size*epoch_iter] because nof_trajectories may be indivisible by batch_size\n",
    "\n",
    "    for i in range(epoch_iter):\n",
    "        optimizer.zero_grad()\n",
    "\n",
    "        obs, tar_x, tar_y = get_batch(x, y, traj_ids[i], device)\n",
    "\n",
    "        pred, _ = model(obs, tar_x)\n",
    "\n",
    "        loss = model.loss(pred, tar_y)  # mean loss over the batch\n",
    "\n",
    "        loss.backward()\n",
    "        optimizer.step()\n",
    "\n",
    "        epoch_loss += loss.item()\n",
    "\n",
    "    epoch_loss /= epoch_iter  # mean loss over the epoch\n",
    "    \n",
    "    training_loss.append(epoch_loss)\n",
    "\n",
    "    if epoch % val_per_epoch == 0:\n",
    "        with torch.no_grad():\n",
    "            v_traj_ids = torch.randperm(num_val)[:batch_size*v_epoch_iter].chunk(v_epoch_iter)\n",
    "            val_loss = 0\n",
    "\n",
    "            for j in range(v_epoch_iter):\n",
    "                o, t, tr = get_validation_batch(vx, vy, v_traj_ids[j], device)\n",
    "\n",
    "                p, _ = model(o, t)\n",
    "                val_loss += mse_loss(p[:, :, :dy], tr).item()\n",
    "\n",
    "            validation_error.append(val_loss)\n",
    "            if val_loss < min_val_loss and epoch > 5e3:\n",
    "                min_val_loss = val_loss\n",
    "                print(f'New best: {min_val_loss}')\n",
    "                torch.save(model_.state_dict(), f'{root_folder}saved_model/best.pt')\n",
    "\n",
    "    avg_loss += epoch_loss\n",
    "\n",
    "    if epoch % val_per_epoch == 0:\n",
    "        print(\"Epoch: {}, Loss: {}\".format(epoch, avg_loss/val_per_epoch))\n",
    "        avg_loss = 0\n",
    "\n",
    "torch.save(torch.Tensor(training_loss), tr_loss_path)\n",
    "torch.save(torch.Tensor(validation_error), val_err_path)"
   ]
  },
  {
   "cell_type": "code",
   "execution_count": null,
   "metadata": {},
   "outputs": [],
   "source": []
  }
 ],
 "metadata": {
  "kernelspec": {
   "display_name": "Python 3",
   "language": "python",
   "name": "python3"
  },
  "language_info": {
   "codemirror_mode": {
    "name": "ipython",
    "version": 3
   },
   "file_extension": ".py",
   "mimetype": "text/x-python",
   "name": "python",
   "nbconvert_exporter": "python",
   "pygments_lexer": "ipython3",
   "version": "3.8.10"
  },
  "orig_nbformat": 4
 },
 "nbformat": 4,
 "nbformat_minor": 2
}
