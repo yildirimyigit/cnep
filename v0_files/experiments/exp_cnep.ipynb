{
 "cells": [
  {
   "cell_type": "code",
   "execution_count": 1,
   "metadata": {},
   "outputs": [
    {
     "data": {
      "text/plain": [
       "WTA_CNP(\n",
       "  (encoder): Sequential(\n",
       "    (0): Linear(in_features=63, out_features=512, bias=True)\n",
       "    (1): ReLU()\n",
       "    (2): Linear(in_features=512, out_features=512, bias=True)\n",
       "    (3): ReLU()\n",
       "    (4): Linear(in_features=512, out_features=512, bias=True)\n",
       "  )\n",
       "  (decoders): ModuleList(\n",
       "    (0): Sequential(\n",
       "      (0): Linear(in_features=513, out_features=512, bias=True)\n",
       "      (1): ReLU()\n",
       "      (2): Linear(in_features=512, out_features=512, bias=True)\n",
       "      (3): ReLU()\n",
       "      (4): Linear(in_features=512, out_features=124, bias=True)\n",
       "    )\n",
       "  )\n",
       "  (gate): Sequential(\n",
       "    (0): Linear(in_features=512, out_features=1, bias=True)\n",
       "    (1): Softmax(dim=-1)\n",
       "  )\n",
       ")"
      ]
     },
     "execution_count": 1,
     "metadata": {},
     "output_type": "execute_result"
    }
   ],
   "source": [
    "import os\n",
    "import torch\n",
    "from models.wta_cnp import WTA_CNP\n",
    "\n",
    "\n",
    "root_path = \"/home/yigit/projects/mbcnp/outputs/experimental/62D/\"\n",
    "run_id, model_folder = f'1700927469', 'saved_models/'\n",
    "run_folder = f'{root_path}{run_id}/'\n",
    "models_path = f'{run_folder}{model_folder}'\n",
    "\n",
    "wta_model_path = f'{models_path}wta_on_synth.pt'\n",
    "\n",
    "y = torch.load(f'{run_folder}y.pt').cpu()\n",
    "num_samples, t_steps, dy = y.shape\n",
    "dx = 1\n",
    "batch_size = 1\n",
    "\n",
    "x = torch.linspace(0, 1, t_steps).repeat(batch_size, 1).view(batch_size, -1, 1)\n",
    "colors = ['tomato', 'aqua', 'limegreen', 'gold', 'mediumslateblue', 'lightcoral', 'darkorange', 'teal']\n",
    "\n",
    "wta = WTA_CNP(1, dy, 10, 10, [512, 512, 512], num_decoders=1, decoder_hidden_dims=[512, 512, 512], batch_size=batch_size)\n",
    "\n",
    "wta.load_state_dict(torch.load(wta_model_path))\n",
    "wta.eval()"
   ]
  },
  {
   "cell_type": "code",
   "execution_count": 2,
   "metadata": {},
   "outputs": [],
   "source": [
    "def get_batch(idx=[0], cond_idx=[0]):\n",
    "    batch_obs = torch.zeros(batch_size, len(cond_idx), dy+dx, dtype=torch.float32)\n",
    "    batch_obs[:, :, 0] = x[0, cond_idx, 0]\n",
    "\n",
    "    batch_obs[:, :, 1:] = y[idx, cond_idx, :].view(batch_size, len(cond_idx), dy)\n",
    "    \n",
    "    return batch_obs, y[idx, :, :]"
   ]
  },
  {
   "cell_type": "code",
   "execution_count": 3,
   "metadata": {},
   "outputs": [
    {
     "name": "stdout",
     "output_type": "stream",
     "text": [
      "torch.Size([1, 1, 63]) torch.Size([1, 781, 62]) torch.Size([1, 781, 1])\n"
     ]
    }
   ],
   "source": [
    "test_ind = 0\n",
    "tar = torch.linspace(0, 1, t_steps).unsqueeze(0).unsqueeze(-1).repeat(batch_size, 1, 1)\n",
    "\n",
    "obs, real_y = get_batch(list(range(batch_size)), [test_ind])\n",
    "\n",
    "print(obs.shape, real_y.shape, tar.shape)\n",
    "\n",
    "with torch.no_grad():\n",
    "    pred_wta, gate = wta(obs, tar)\n",
    "\n",
    "out_traj = pred_wta[0, 0, :, :dy].cpu().numpy()"
   ]
  },
  {
   "cell_type": "code",
   "execution_count": 4,
   "metadata": {},
   "outputs": [
    {
     "name": "stdout",
     "output_type": "stream",
     "text": [
      "(781, 62)\n"
     ]
    }
   ],
   "source": [
    "print(out_traj.shape)"
   ]
  },
  {
   "cell_type": "code",
   "execution_count": 5,
   "metadata": {},
   "outputs": [],
   "source": [
    "def replace_amc_values(original_file, out_traj, new_file):\n",
    "    with open(original_file, 'r') as f, open(new_file, 'w') as new_f:\n",
    "        lines = f.readlines()\n",
    "        d_ctr = 0\n",
    "        for i, line in enumerate(lines):\n",
    "            # Skip header lines\n",
    "            if i < 3:\n",
    "                new_f.write(line)\n",
    "                continue\n",
    "\n",
    "            # Split the line into parts\n",
    "            parts = line.split()\n",
    "            if len(parts) > 1:\n",
    "                # Replace the numeric values\n",
    "                new_parts = [parts[0]]\n",
    "                for j in range(len(parts)-1):\n",
    "                    new_parts.append(str(out_traj[frame_id-1, d_ctr]))\n",
    "                    d_ctr = (d_ctr + 1) % dy\n",
    "                new_line = ' '.join(new_parts) + '\\n'\n",
    "                new_f.write(new_line)\n",
    "            else:\n",
    "                frame_id = int(parts[0])\n",
    "                new_f.write(line)\n",
    "\n",
    "replace_amc_values(f'{run_folder}out.amc', out_traj, f'{run_folder}new.amc')"
   ]
  },
  {
   "cell_type": "code",
   "execution_count": 6,
   "metadata": {},
   "outputs": [
    {
     "name": "stdout",
     "output_type": "stream",
     "text": [
      "[ 1.58086300e+00  1.79608345e+01  2.82689686e+01  3.59414307e+02\n",
      " -8.41227417e+01  8.42250824e+00 -5.30872059e+00  5.06353974e-01\n",
      " -1.09459162e+00 -2.94482136e+00  6.68586135e-01 -1.75090170e+00\n",
      " -3.83535624e-02  2.93016970e-01 -1.19427586e+00  6.32107735e-01\n",
      " -2.56084156e+00 -9.72723961e-02  3.71735573e-01 -3.42914844e+00\n",
      "  3.13607812e+00  5.81014156e-02 -1.73109579e+00  9.74600136e-01\n",
      "  4.91065904e-04  3.64640728e-04 -1.63495579e+01 -2.01191254e+01\n",
      " -2.49258041e+00  2.63806171e+01  1.14302855e+01  1.10099125e+00\n",
      " -4.71856308e+01  7.12635136e+00  2.66477509e+01 -4.34622589e+02\n",
      " -2.13342719e-04  1.02225691e-04  9.07450676e-01  1.22488842e+01\n",
      "  7.54243994e+00  2.37161674e+01  1.02154279e+00 -1.75466232e+01\n",
      " -1.29258947e+01  7.12439156e+00  8.70207882e+00  1.68407326e+01\n",
      "  9.93822384e+00  2.41189995e+01  1.05382214e+01 -5.37151051e+00\n",
      " -4.23995285e+01 -3.54376450e+01  1.74451408e+01  6.49754286e+00\n",
      " -1.27732315e+01 -8.11125851e+00 -5.45988750e+00 -3.06649628e+01\n",
      "  4.48515701e+00  4.64753151e+01]\n"
     ]
    }
   ],
   "source": [
    "print(out_traj[-1])"
   ]
  },
  {
   "cell_type": "code",
   "execution_count": 10,
   "metadata": {},
   "outputs": [
    {
     "name": "stdout",
     "output_type": "stream",
     "text": [
      "Plotting 325 frames.\n"
     ]
    }
   ],
   "source": [
    "import time\n",
    "\n",
    "from absl import app\n",
    "from absl import flags\n",
    "from dm_control.suite import humanoid_CMU\n",
    "from dm_control.suite.utils import parse_amc\n",
    "import matplotlib.pyplot as plt\n",
    "import numpy as np\n",
    "\n",
    "def play():\n",
    "    env = humanoid_CMU.stand()\n",
    "\n",
    "    max_num_frames = 90\n",
    "\n",
    "    # Parse and convert specified clip.\n",
    "    converted = parse_amc.convert(f'{run_folder}new.amc',\n",
    "                                  env.physics, env.control_timestep())\n",
    "\n",
    "    max_frame = max(max_num_frames, converted.qpos.shape[1] - 1)\n",
    "    print('Plotting {} frames.'.format(max_frame))\n",
    "\n",
    "    width = 240\n",
    "    height = 240\n",
    "    video = np.zeros((max_frame, height, width, 3), dtype=np.uint8)\n",
    "\n",
    "    for i in range(max_frame):\n",
    "      p_i = converted.qpos[:, i]\n",
    "      with env.physics.reset_context():\n",
    "        env.physics.data.qpos[:] = p_i\n",
    "      video[i] = env.physics.render(height, width, camera_id=1)\n",
    "\n",
    "  \n",
    "    # for i in range(1, max_frame):\n",
    "    #     img = plt.imshow(video[i])\n",
    "    #     plt.title(i)\n",
    "    #     plt.pause(0.01)  # Need min display time > 0.0.\n",
    "    #     plt.draw()\n",
    "\n",
    "    return converted, video\n",
    "\n",
    "converted, video = play()"
   ]
  },
  {
   "cell_type": "code",
   "execution_count": 16,
   "metadata": {},
   "outputs": [
    {
     "data": {
      "image/png": "[encoded data removed]",
      "text/plain": [
       "<Figure size 640x480 with 1 Axes>"
      ]
     },
     "metadata": {},
     "output_type": "display_data"
    }
   ],
   "source": [
    "%matplotlib inline\n",
    "\n",
    "import matplotlib.animation as animation\n",
    "\n",
    "def update_frame(i):\n",
    "    img.set_array(video[i])\n",
    "    return img,\n",
    "\n",
    "# Create the initial plot.\n",
    "fig = plt.figure()\n",
    "img = plt.imshow(video[0])\n",
    "\n",
    "ani = animation.FuncAnimation(fig, update_frame, frames=324, interval=30, blit=True)\n",
    "\n",
    "plt.show()"
   ]
  },
  {
   "cell_type": "code",
   "execution_count": 13,
   "metadata": {},
   "outputs": [
    {
     "ename": "TypeError",
     "evalue": "__init__(): incompatible constructor arguments. The following argument types are supported:\n    1. mujoco._structs.MjData(arg0: mujoco._structs.MjModel)\n\nInvoked with: MJCF Element: <mujoco model=\"humanoid_CMU\">...</mujoco>",
     "output_type": "error",
     "traceback": [
      "\u001b[0;31m---------------------------------------------------------------------------\u001b[0m",
      "\u001b[0;31mTypeError\u001b[0m                                 Traceback (most recent call last)",
      "\u001b[1;32m/home/yigit/projects/mbcnp/exp_cnep.ipynb Cell 8\u001b[0m line \u001b[0;36m4\n\u001b[1;32m     <a href='vscode-notebook-cell:/home/yigit/projects/mbcnp/exp_cnep.ipynb#X10sZmlsZQ%3D%3D?line=40'>41</a>\u001b[0m \u001b[39m# Load the MuJoCo model\u001b[39;00m\n\u001b[1;32m     <a href='vscode-notebook-cell:/home/yigit/projects/mbcnp/exp_cnep.ipynb#X10sZmlsZQ%3D%3D?line=41'>42</a>\u001b[0m model \u001b[39m=\u001b[39m mjcf\u001b[39m.\u001b[39mfrom_path(\u001b[39m\"\u001b[39m\u001b[39m/home/yigit/.local/lib/python3.8/site-packages/dm_control/suite/humanoid_CMU.xml\u001b[39m\u001b[39m\"\u001b[39m)\n\u001b[0;32m---> <a href='vscode-notebook-cell:/home/yigit/projects/mbcnp/exp_cnep.ipynb#X10sZmlsZQ%3D%3D?line=42'>43</a>\u001b[0m d \u001b[39m=\u001b[39m mujoco\u001b[39m.\u001b[39;49mMjData(model)\n\u001b[1;32m     <a href='vscode-notebook-cell:/home/yigit/projects/mbcnp/exp_cnep.ipynb#X10sZmlsZQ%3D%3D?line=43'>44</a>\u001b[0m sim \u001b[39m=\u001b[39m mujoco\u001b[39m.\u001b[39mMjSim(model)\n\u001b[1;32m     <a href='vscode-notebook-cell:/home/yigit/projects/mbcnp/exp_cnep.ipynb#X10sZmlsZQ%3D%3D?line=45'>46</a>\u001b[0m \u001b[39mwith\u001b[39;00m mujoco\u001b[39m.\u001b[39mviewer\u001b[39m.\u001b[39mlaunch_passive(model, d) \u001b[39mas\u001b[39;00m viewer:\n",
      "\u001b[0;31mTypeError\u001b[0m: __init__(): incompatible constructor arguments. The following argument types are supported:\n    1. mujoco._structs.MjData(arg0: mujoco._structs.MjModel)\n\nInvoked with: MJCF Element: <mujoco model=\"humanoid_CMU\">...</mujoco>"
     ]
    }
   ],
   "source": [
    "# import dm_control.locomotion as locomotion\n",
    "# from dm_control import composer\n",
    "\n",
    "# walker = locomotion.walkers.cmu_humanoid.CMUHumanoid()\n",
    "# arena = locomotion.arenas.Floor()\n",
    "# task = locomotion.tasks.stand.Stand(walker=walker, arena=arena)\n",
    "# env = composer.Environment(task=task, random_state=None)\n",
    "\n",
    "# walker = locomotion.walkers.cmu_humanoid.CMUHumanoid()\n",
    "# arena = locomotion.arenas.Floor()\n",
    "# task = locomotion.tasks.stand.Stand(walker=walker, arena=arena)\n",
    "# env = composer.Environment(task=task, random_state=None)\n",
    "\n",
    "\n",
    "# qpos_init = env.physics.bind(walker.qpos).data\n",
    "# qvel_init = env.physics.bind(walker.qvel).data\n",
    "\n",
    "# # Set the initial joint positions and velocities based on the first (qpos, qvel) tuple from the list\n",
    "# qpos_init[:] = converted.qpos[0][0]\n",
    "# qvel_init[:] = converted.qvel[0][1]\n",
    "\n",
    "# viewer = locomotion.viewers.MujocoViewer(env)\n",
    "# viewer.launch()\n",
    "\n",
    "# for i, data in enumerate(converted):\n",
    "#     qpos_target = data[0]\n",
    "#     qvel_target = data[1]\n",
    "\n",
    "#     # Set the target joint positions and velocities\n",
    "#     qpos_init[:] = qpos_target\n",
    "#     qvel_init[:] = qvel_target\n",
    "\n",
    "#     # Step the environment and record the next state\n",
    "#     for _ in range(100):\n",
    "#         env.step(env.random.uniform(env.action_spec().minimum, env.action_spec().maximum))\n",
    "\n",
    "from dm_control import mjcf\n",
    "import mujoco\n",
    "import numpy as np\n",
    "\n",
    "# Load the MuJoCo model\n",
    "model = mjcf.from_path(\"/home/yigit/.local/lib/python3.8/site-packages/dm_control/suite/humanoid_CMU.xml\")\n",
    "d = mujoco.MjData(model)\n",
    "sim = mujoco.MjSim(model)\n",
    "\n",
    "with mujoco.viewer.launch_passive(model, d) as viewer:\n",
    "  start = time.time()\n",
    "  while viewer.is_running() and time.time() - start < 30:\n",
    "    step_start = time.time()\n",
    "\n",
    "    # mj_step can be replaced with code that also evaluates\n",
    "    # a policy and applies a control signal before stepping the physics.\n",
    "    mujoco.mj_step(model, d)\n",
    "\n",
    "    # Example modification of a viewer option: toggle contact points every two seconds.\n",
    "    with viewer.lock():\n",
    "      viewer.opt.flags[mujoco.mjtVisFlag.mjVIS_CONTACTPOINT] = int(d.time % 2)\n",
    "\n",
    "    # Pick up changes to the physics state, apply perturbations, update options from GUI.\n",
    "    viewer.sync()\n",
    "\n",
    "    # Rudimentary time keeping, will drift relative to wall clock.\n",
    "    time_until_next_step = model.opt.timestep - (time.time() - step_start)\n",
    "    if time_until_next_step > 0:\n",
    "      time.sleep(time_until_next_step)\n",
    "\n",
    "# # Simulate the motion\n",
    "# for qpos, qvel, time in motion_data:\n",
    "#     sim.data.qpos[:len(qpos)] = qpos\n",
    "#     sim.data.qvel[:len(qvel)] = qvel\n",
    "#     sim.forward()\n",
    "    \n",
    "#     # Simulate for the specified time duration\n",
    "#     num_steps = int(time / sim.model.opt.timestep)\n",
    "#     for _ in range(num_steps):\n",
    "#         sim.step()\n",
    "\n",
    "#     # Render or perform other actions as needed\n",
    "#     sim.render()\n",
    "\n",
    "# # Close the simulation\n",
    "# sim.close()\n",
    "\n"
   ]
  },
  {
   "cell_type": "code",
   "execution_count": null,
   "metadata": {},
   "outputs": [
    {
     "name": "stderr",
     "output_type": "stream",
     "text": [
      "/tmp/ipykernel_4546/1949910362.py:14: UserWarning: To copy construct from a tensor, it is recommended to use sourceTensor.clone().detach() or sourceTensor.clone().detach().requires_grad_(True), rather than torch.tensor(sourceTensor).\n",
      "  dm_traj[i, j] = torch.tensor(y[0, i, indices[j]]) # / _POSITION_ACTUATORS[indices[j]][1][1]\n"
     ]
    }
   ],
   "source": [
    "# from dm_control.locomotion.walkers.cmu_humanoid import _POSITION_ACTUATORS\n",
    "\n",
    "# #dm_control_dim_id: mocap_dim_id\n",
    "# indices = {0:16,1:17,2:18,3:50,4:51,5:52,6:47,7:48,8:49,9:19,\n",
    "#            10:20,11:21,12:53,13:54,14:55,15:0,16:1,17:2,18:28,19:29,\n",
    "#            20:38,21:39,22:40,23:41,24:46,25:36,26:37,27:33,28:42,29:43,\n",
    "#            30:3,31:4,32:13,33:14,34:15,35:22,36:27,37:11,38:12,39:8,\n",
    "#            40:23,41:24,42:30,43:31,44:32,45:44,46:34,47:35,48:45,49:5,\n",
    "#            50:6,51:7,52:25,53:9,54:10,55:26}\n",
    "\n",
    "# dm_traj = torch.zeros((t_steps, 56))\n",
    "# for i in range(t_steps):\n",
    "#     for j in range(56):\n",
    "#         dm_traj[i, j] = torch.tensor(y[0, i, indices[j]]) # / _POSITION_ACTUATORS[indices[j]][1][1]\n"
   ]
  },
  {
   "cell_type": "code",
   "execution_count": 49,
   "metadata": {},
   "outputs": [],
   "source": [
    "# dm_traj = torch.zeros((t_steps, 56))\n",
    "# s_traj = y[0, :, :]\n",
    "# for i in range(t_steps):\n",
    "#     for j in range(56):\n",
    "#         dm_traj[i, j] = s_traj[i, indices[j]] / _POSITION_ACTUATORS[indices[j]][1][1]"
   ]
  },
  {
   "cell_type": "code",
   "execution_count": null,
   "metadata": {},
   "outputs": [],
   "source": []
  },
  {
   "cell_type": "code",
   "execution_count": 1,
   "metadata": {},
   "outputs": [
    {
     "name": "stdout",
     "output_type": "stream",
     "text": [
      "action_spec: BoundedArray(shape=(56,), dtype=dtype('float64'), name='walker/headrx\\twalker/headry\\twalker/headrz\\twalker/lclaviclery\\twalker/lclaviclerz\\twalker/lfemurrx\\twalker/lfemurry\\twalker/lfemurrz\\twalker/lfingersrx\\twalker/lfootrx\\twalker/lfootrz\\twalker/lhandrx\\twalker/lhandrz\\twalker/lhumerusrx\\twalker/lhumerusry\\twalker/lhumerusrz\\twalker/lowerbackrx\\twalker/lowerbackry\\twalker/lowerbackrz\\twalker/lowerneckrx\\twalker/lowerneckry\\twalker/lowerneckrz\\twalker/lradiusrx\\twalker/lthumbrx\\twalker/lthumbrz\\twalker/ltibiarx\\twalker/ltoesrx\\twalker/lwristry\\twalker/rclaviclery\\twalker/rclaviclerz\\twalker/rfemurrx\\twalker/rfemurry\\twalker/rfemurrz\\twalker/rfingersrx\\twalker/rfootrx\\twalker/rfootrz\\twalker/rhandrx\\twalker/rhandrz\\twalker/rhumerusrx\\twalker/rhumerusry\\twalker/rhumerusrz\\twalker/rradiusrx\\twalker/rthumbrx\\twalker/rthumbrz\\twalker/rtibiarx\\twalker/rtoesrx\\twalker/rwristry\\twalker/thoraxrx\\twalker/thoraxry\\twalker/thoraxrz\\twalker/upperbackrx\\twalker/upperbackry\\twalker/upperbackrz\\twalker/upperneckrx\\twalker/upperneckry\\twalker/upperneckrz', minimum=[-1. -1. -1. -1. -1. -1. -1. -1. -1. -1. -1. -1. -1. -1. -1. -1. -1. -1.\n",
      " -1. -1. -1. -1. -1. -1. -1. -1. -1. -1. -1. -1. -1. -1. -1. -1. -1. -1.\n",
      " -1. -1. -1. -1. -1. -1. -1. -1. -1. -1. -1. -1. -1. -1. -1. -1. -1. -1.\n",
      " -1. -1.], maximum=[1. 1. 1. 1. 1. 1. 1. 1. 1. 1. 1. 1. 1. 1. 1. 1. 1. 1. 1. 1. 1. 1. 1. 1.\n",
      " 1. 1. 1. 1. 1. 1. 1. 1. 1. 1. 1. 1. 1. 1. 1. 1. 1. 1. 1. 1. 1. 1. 1. 1.\n",
      " 1. 1. 1. 1. 1. 1. 1. 1.])\n"
     ]
    },
    {
     "ename": "NameError",
     "evalue": "name 't_steps' is not defined",
     "output_type": "error",
     "traceback": [
      "\u001b[0;31m---------------------------------------------------------------------------\u001b[0m",
      "\u001b[0;31mNameError\u001b[0m                                 Traceback (most recent call last)",
      "\u001b[1;32m/home/yigit/projects/mbcnp/exp_cnep.ipynb Cell 8\u001b[0m line \u001b[0;36m3\n\u001b[1;32m     <a href='vscode-notebook-cell:/home/yigit/projects/mbcnp/exp_cnep.ipynb#X10sZmlsZQ%3D%3D?line=21'>22</a>\u001b[0m viewer\u001b[39m.\u001b[39mlaunch(env)\n\u001b[1;32m     <a href='vscode-notebook-cell:/home/yigit/projects/mbcnp/exp_cnep.ipynb#X10sZmlsZQ%3D%3D?line=23'>24</a>\u001b[0m \u001b[39m# # for i in range(698):  # Run for 1000 steps as an example\u001b[39;00m\n\u001b[1;32m     <a href='vscode-notebook-cell:/home/yigit/projects/mbcnp/exp_cnep.ipynb#X10sZmlsZQ%3D%3D?line=24'>25</a>\u001b[0m \u001b[39m# #     action = out_traj[i, 6:]\u001b[39;00m\n\u001b[1;32m     <a href='vscode-notebook-cell:/home/yigit/projects/mbcnp/exp_cnep.ipynb#X10sZmlsZQ%3D%3D?line=25'>26</a>\u001b[0m \u001b[39m# #     print(action)\u001b[39;00m\n\u001b[1;32m     <a href='vscode-notebook-cell:/home/yigit/projects/mbcnp/exp_cnep.ipynb#X10sZmlsZQ%3D%3D?line=26'>27</a>\u001b[0m \u001b[39m# #     break\u001b[39;00m\n\u001b[1;32m     <a href='vscode-notebook-cell:/home/yigit/projects/mbcnp/exp_cnep.ipynb#X10sZmlsZQ%3D%3D?line=27'>28</a>\u001b[0m \u001b[39m# #     env.step(action)\u001b[39;00m\n\u001b[0;32m---> <a href='vscode-notebook-cell:/home/yigit/projects/mbcnp/exp_cnep.ipynb#X10sZmlsZQ%3D%3D?line=29'>30</a>\u001b[0m \u001b[39mfor\u001b[39;00m i \u001b[39min\u001b[39;00m \u001b[39mrange\u001b[39m(t_steps):\n\u001b[1;32m     <a href='vscode-notebook-cell:/home/yigit/projects/mbcnp/exp_cnep.ipynb#X10sZmlsZQ%3D%3D?line=30'>31</a>\u001b[0m     action \u001b[39m=\u001b[39m actions[i, :]\n\u001b[1;32m     <a href='vscode-notebook-cell:/home/yigit/projects/mbcnp/exp_cnep.ipynb#X10sZmlsZQ%3D%3D?line=31'>32</a>\u001b[0m     time_step \u001b[39m=\u001b[39m env\u001b[39m.\u001b[39mstep(action)\n",
      "\u001b[0;31mNameError\u001b[0m: name 't_steps' is not defined"
     ]
    }
   ],
   "source": [
    "from dm_control import suite\n",
    "from dm_control.locomotion.examples import basic_cmu_2019\n",
    "import numpy as np\n",
    "from matplotlib import pyplot as plt\n",
    "from dm_control import viewer\n",
    "\n",
    "env = basic_cmu_2019.cmu_humanoid_go_to_target()\n",
    "time_step = env.reset()\n",
    "\n",
    "action_spec = env.action_spec()\n",
    "\n",
    "print('action_spec:', action_spec)\n",
    "\n",
    "width = 480\n",
    "height = 480\n",
    "video = np.zeros((698, height, 2 * width, 3), dtype=np.uint8)\n",
    "\n",
    "# # Step through an episode and print out reward, discount and observation.\n",
    "# action_spec = env.action_spec()\n",
    "# time_step = env.reset()\n",
    "\n",
    "viewer.launch(env)\n",
    "\n",
    "# # for i in range(698):  # Run for 1000 steps as an example\n",
    "# #     action = out_traj[i, 6:]\n",
    "# #     print(action)\n",
    "# #     break\n",
    "# #     env.step(action)\n",
    "\n",
    "for i in range(t_steps):\n",
    "    action = actions[i, :]\n",
    "    time_step = env.step(action)\n",
    "    video[i] = np.hstack([env.physics.render(height, width, camera_id=0),\n",
    "                          env.physics.render(height, width, camera_id=1)])\n",
    "\n",
    "# for i in range(t_steps):\n",
    "#     img = plt.imshow(video[i])\n",
    "#     plt.pause(0.01)  # Need min display time > 0.0.\n",
    "#     plt.draw()\n"
   ]
  }
 ],
 "metadata": {
  "kernelspec": {
   "display_name": "Python 3",
   "language": "python",
   "name": "python3"
  },
  "language_info": {
   "codemirror_mode": {
    "name": "ipython",
    "version": 3
   },
   "file_extension": ".py",
   "mimetype": "text/x-python",
   "name": "python",
   "nbconvert_exporter": "python",
   "pygments_lexer": "ipython3",
   "version": "3.8.10"
  }
 },
 "nbformat": 4,
 "nbformat_minor": 2
}
