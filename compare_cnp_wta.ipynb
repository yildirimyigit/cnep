{
 "cells": [
  {
   "cell_type": "code",
   "execution_count": 1,
   "metadata": {},
   "outputs": [],
   "source": [
    "from models.cnp import CNP\n",
    "from models.wta_cnp import WTA_CNP\n",
    "\n",
    "from data.data_generators import *\n",
    "import torch\n",
    "\n",
    "if torch.cuda.is_available():\n",
    "    device_wta = torch.device(\"cuda:0\")\n",
    "    device_cnp = torch.device(\"cuda:1\") if torch.cuda.device_count() > 1 else torch.device(\"cuda:0\")\n",
    "else:\n",
    "    device_wta = torch.device(\"cpu\")\n",
    "    device_cnp = torch.device(\"cpu\")"
   ]
  },
  {
   "cell_type": "code",
   "execution_count": 2,
   "metadata": {},
   "outputs": [],
   "source": [
    "batch_size = 32\n",
    "n_max_obs, n_max_tar = 10, 10\n",
    "\n",
    "t_steps = 200\n",
    "num_demos = 128\n",
    "num_classes = 4\n",
    "num_indiv = num_demos//num_classes  # number of demos per class\n",
    "noise_clip = 0.0\n",
    "dx, dy = 1, 1\n",
    "\n",
    "num_val = 32\n",
    "num_val_indiv = num_val//num_classes\n",
    "\n",
    "colors = ['r', 'g', 'b', 'm']"
   ]
  },
  {
   "cell_type": "code",
   "execution_count": 3,
   "metadata": {},
   "outputs": [
    {
     "name": "stdout",
     "output_type": "stream",
     "text": [
      "X: torch.Size([128, 200, 1]) Y: torch.Size([128, 200, 1]) VX: torch.Size([32, 200, 1]) VY: torch.Size([32, 200, 1])\n"
     ]
    }
   ],
   "source": [
    "x = torch.linspace(0, 1, 200).repeat(num_indiv, 1)\n",
    "y = torch.zeros(num_demos, t_steps, dy)\n",
    "\n",
    "vx = torch.linspace(0, 1, 200).repeat(num_val_indiv, 1)\n",
    "vy = torch.zeros(num_val, t_steps, dy)\n",
    "\n",
    "generator_functions = [generate_sin, generate_cos, generate_cx_sigm, generate_reverse_cx_sigm]\n",
    "\n",
    "for i in range(num_classes):\n",
    "    noise = torch.clamp(torch.randn(x.shape)*1e-4**0.5, min=0) - noise_clip\n",
    "    y[i*num_indiv:(i+1)*num_indiv] = torch.unsqueeze(generator_functions[i](x) + noise, 2)\n",
    "    noise = torch.clamp(torch.randn(vx.shape)*1e-4**0.5, min=0) - noise_clip\n",
    "    vy[i*num_val_indiv:(i+1)*num_val_indiv] = torch.unsqueeze(generator_functions[i](vx) + noise, 2)\n",
    "\n",
    "x = torch.unsqueeze(x.repeat(num_classes, 1), 2)  # since dx = 1\n",
    "vx = torch.unsqueeze(vx.repeat(num_classes, 1), 2)\n",
    "print(\"X:\", x.shape, \"Y:\", y.shape, \"VX:\", vx.shape, \"VY:\", vy.shape)\n",
    "\n",
    "x0, y0 = x.to(device_wta), y.to(device_wta)\n",
    "x1, y1 = x.to(device_cnp), y.to(device_cnp)"
   ]
  },
  {
   "cell_type": "code",
   "execution_count": 4,
   "metadata": {},
   "outputs": [],
   "source": [
    "def get_batch(x, y, traj_ids, device=device_wta):\n",
    "    n_t = torch.randint(1, n_max_tar, (1,)).item()\n",
    "    n_o = torch.randint(1, n_max_obs, (1,)).item()\n",
    "\n",
    "    obs = torch.zeros(batch_size, n_o, dx+dy, device=device)\n",
    "    tar = torch.zeros(batch_size, n_t, dx, device=device)\n",
    "    tar_val = torch.zeros(batch_size, n_t, dy, device=device)\n",
    "\n",
    "    for i in range(len(traj_ids)):\n",
    "        random_query_ids = torch.randperm(t_steps)\n",
    "        o_ids = random_query_ids[:n_o]\n",
    "        t_ids = random_query_ids[n_o:n_o+n_t]\n",
    "\n",
    "        obs[i, :, :] = torch.cat((x[traj_ids[i], o_ids], y[traj_ids[i], o_ids]), dim=-1)\n",
    "        tar[i, :, :] = x[traj_ids[i], t_ids]\n",
    "        tar_val[i, :, :] = y[traj_ids[i], t_ids]\n",
    "\n",
    "    # print(\"Obs:\", obs.shape, \"Tar:\", tar.shape, \"Tar_val:\", tar_val.shape)\n",
    "    return obs, tar, tar_val"
   ]
  },
  {
   "cell_type": "code",
   "execution_count": 5,
   "metadata": {},
   "outputs": [],
   "source": [
    "def get_validation_batch(vx, vy, o_ids=[0, -1], device=device_wta):\n",
    "    obs = torch.cat((vx[:, o_ids, :], vy[:, o_ids, :]), dim=-1).to(device)\n",
    "    tar = vx[:, torch.arange(t_steps)].to(device)\n",
    "    tar_val= vy[:, torch.arange(t_steps)].to(device)\n",
    "\n",
    "    return obs, tar, tar_val"
   ]
  },
  {
   "cell_type": "code",
   "execution_count": 6,
   "metadata": {},
   "outputs": [],
   "source": [
    "model_wta = WTA_CNP(1, 1, 10, 10, [256, 256, 256], 4, [128, 128], 32).to(device_wta)\n",
    "optimizer_wta = torch.optim.Adam(lr=1e-4, params=model_wta.parameters())\n",
    "\n",
    "model_cnp = CNP(input_dim=1, hidden_dim=287, output_dim=1, n_max_obs=10, n_max_tar=10, num_layers=2, batch_size=batch_size).to(device_cnp)\n",
    "optimizer_cnp = torch.optim.Adam(lr=1e-4, params=model_cnp.parameters())"
   ]
  },
  {
   "cell_type": "code",
   "execution_count": 8,
   "metadata": {},
   "outputs": [
    {
     "name": "stdout",
     "output_type": "stream",
     "text": [
      "New best: 0.3997238874435425\n",
      "New best: 0.21784661710262299\n",
      "Epoch: 0, WTA-Loss: 0.20195991516113282, , CNP-Loss: 0.033378812670707705\n"
     ]
    },
    {
     "ename": "KeyboardInterrupt",
     "evalue": "",
     "output_type": "error",
     "traceback": [
      "\u001b[0;31m---------------------------------------------------------------------------\u001b[0m",
      "\u001b[0;31mKeyboardInterrupt\u001b[0m                         Traceback (most recent call last)",
      "\u001b[1;32m/home/yigit/projects/mbcnp/compare_cnp_wta.ipynb Cell 7\u001b[0m in \u001b[0;36m<cell line: 25>\u001b[0;34m()\u001b[0m\n\u001b[1;32m     <a href='vscode-notebook-cell:/home/yigit/projects/mbcnp/compare_cnp_wta.ipynb#W6sZmlsZQ%3D%3D?line=37'>38</a>\u001b[0m pred_cnp, encoded_rep_cnp \u001b[39m=\u001b[39m model_cnp(obs_cnp, tar_x_cnp)\n\u001b[1;32m     <a href='vscode-notebook-cell:/home/yigit/projects/mbcnp/compare_cnp_wta.ipynb#W6sZmlsZQ%3D%3D?line=39'>40</a>\u001b[0m loss_wta \u001b[39m=\u001b[39m model_wta\u001b[39m.\u001b[39mloss(pred_wta, gate_wta, tar_y_wta)\n\u001b[0;32m---> <a href='vscode-notebook-cell:/home/yigit/projects/mbcnp/compare_cnp_wta.ipynb#W6sZmlsZQ%3D%3D?line=40'>41</a>\u001b[0m loss_wta\u001b[39m.\u001b[39;49mbackward()\n\u001b[1;32m     <a href='vscode-notebook-cell:/home/yigit/projects/mbcnp/compare_cnp_wta.ipynb#W6sZmlsZQ%3D%3D?line=41'>42</a>\u001b[0m optimizer_wta\u001b[39m.\u001b[39mstep()\n\u001b[1;32m     <a href='vscode-notebook-cell:/home/yigit/projects/mbcnp/compare_cnp_wta.ipynb#W6sZmlsZQ%3D%3D?line=43'>44</a>\u001b[0m loss_cnp \u001b[39m=\u001b[39m model_cnp\u001b[39m.\u001b[39mloss(pred_cnp, tar_y_cnp)\n",
      "File \u001b[0;32m~/.local/lib/python3.8/site-packages/torch/_tensor.py:363\u001b[0m, in \u001b[0;36mTensor.backward\u001b[0;34m(self, gradient, retain_graph, create_graph, inputs)\u001b[0m\n\u001b[1;32m    354\u001b[0m \u001b[39mif\u001b[39;00m has_torch_function_unary(\u001b[39mself\u001b[39m):\n\u001b[1;32m    355\u001b[0m     \u001b[39mreturn\u001b[39;00m handle_torch_function(\n\u001b[1;32m    356\u001b[0m         Tensor\u001b[39m.\u001b[39mbackward,\n\u001b[1;32m    357\u001b[0m         (\u001b[39mself\u001b[39m,),\n\u001b[0;32m   (...)\u001b[0m\n\u001b[1;32m    361\u001b[0m         create_graph\u001b[39m=\u001b[39mcreate_graph,\n\u001b[1;32m    362\u001b[0m         inputs\u001b[39m=\u001b[39minputs)\n\u001b[0;32m--> 363\u001b[0m torch\u001b[39m.\u001b[39;49mautograd\u001b[39m.\u001b[39;49mbackward(\u001b[39mself\u001b[39;49m, gradient, retain_graph, create_graph, inputs\u001b[39m=\u001b[39;49minputs)\n",
      "File \u001b[0;32m~/.local/lib/python3.8/site-packages/torch/autograd/__init__.py:173\u001b[0m, in \u001b[0;36mbackward\u001b[0;34m(tensors, grad_tensors, retain_graph, create_graph, grad_variables, inputs)\u001b[0m\n\u001b[1;32m    168\u001b[0m     retain_graph \u001b[39m=\u001b[39m create_graph\n\u001b[1;32m    170\u001b[0m \u001b[39m# The reason we repeat same the comment below is that\u001b[39;00m\n\u001b[1;32m    171\u001b[0m \u001b[39m# some Python versions print out the first line of a multi-line function\u001b[39;00m\n\u001b[1;32m    172\u001b[0m \u001b[39m# calls in the traceback and some print out the last line\u001b[39;00m\n\u001b[0;32m--> 173\u001b[0m Variable\u001b[39m.\u001b[39;49m_execution_engine\u001b[39m.\u001b[39;49mrun_backward(  \u001b[39m# Calls into the C++ engine to run the backward pass\u001b[39;49;00m\n\u001b[1;32m    174\u001b[0m     tensors, grad_tensors_, retain_graph, create_graph, inputs,\n\u001b[1;32m    175\u001b[0m     allow_unreachable\u001b[39m=\u001b[39;49m\u001b[39mTrue\u001b[39;49;00m, accumulate_grad\u001b[39m=\u001b[39;49m\u001b[39mTrue\u001b[39;49;00m)\n",
      "\u001b[0;31mKeyboardInterrupt\u001b[0m: "
     ]
    }
   ],
   "source": [
    "import time\n",
    "\n",
    "file_name = int(time.time())\n",
    "\n",
    "epochs = 5000000\n",
    "epoch_iter = num_demos//batch_size  # number of batches per epoch (e.g. 100//32 = 3)\n",
    "avg_loss_wta, avg_loss_cnp = 0, 0\n",
    "\n",
    "val_per_epoch = 1000\n",
    "min_val_loss_wta, min_val_loss_cnp = 1000000, 1000000\n",
    "\n",
    "mse_loss = torch.nn.MSELoss()\n",
    "\n",
    "training_loss_wta, validation_error_wta = [], []\n",
    "training_loss_cnp, validation_error_cnp = [], []\n",
    "\n",
    "wta_tr_loss_path = f'wta_training_loss_{file_name}.pt'\n",
    "wta_val_err_path = f'wta_validation_error_{file_name}.pt'\n",
    "cnp_tr_loss_path = f'cnp_training_loss_{file_name}.pt'\n",
    "cnp_val_err_path = f'cnp_validation_error_{file_name}.pt'\n",
    "\n",
    "o_wta, t_wta, tr_wta = get_validation_batch(vx, vy, device=device_wta)\n",
    "o_cnp, t_cnp, tr_cnp = get_validation_batch(vx, vy, device=device_cnp)\n",
    "\n",
    "for epoch in range(epochs):\n",
    "    epoch_loss_wta, epoch_loss_cnp = 0, 0\n",
    "\n",
    "    traj_ids = torch.randperm(x.shape[0])[:batch_size*epoch_iter].chunk(epoch_iter)  # [:batch_size*epoch_iter] because nof_trajectories may be indivisible by batch_size\n",
    "\n",
    "    for i in range(epoch_iter):\n",
    "        optimizer_wta.zero_grad()\n",
    "        optimizer_cnp.zero_grad()\n",
    "\n",
    "        obs_wta, tar_x_wta, tar_y_wta = get_batch(x, y, traj_ids[i], device_wta)\n",
    "        obs_cnp, tar_x_cnp, tar_y_cnp = get_batch(x, y, traj_ids[i], device_cnp)\n",
    "\n",
    "        pred_wta, gate_wta = model_wta(obs_wta, tar_x_wta)\n",
    "        pred_cnp, encoded_rep_cnp = model_cnp(obs_cnp, tar_x_cnp)\n",
    "\n",
    "        loss_wta, wta_nll = model_wta.loss(pred_wta, gate_wta, tar_y_wta)\n",
    "        loss_wta.backward()\n",
    "        optimizer_wta.step()\n",
    "\n",
    "        loss_cnp = model_cnp.loss(pred_cnp, tar_y_cnp)\n",
    "        loss_cnp.backward()\n",
    "        optimizer_cnp.step()\n",
    "\n",
    "        epoch_loss_wta += wta_nll.item()\n",
    "        epoch_loss_cnp += loss_cnp.item()\n",
    "\n",
    "    training_loss_wta.append(epoch_loss_wta)\n",
    "    training_loss_cnp.append(epoch_loss_cnp)\n",
    "\n",
    "    if epoch % val_per_epoch == 0:\n",
    "        with torch.no_grad():\n",
    "            p_wta, g_wta = model_wta(o_wta, t_wta)\n",
    "            # dec_id = torch.zeros_like(g, device=device)\n",
    "            dec_id = torch.argmax(g_wta.squeeze(1), dim=-1)\n",
    "            vp_means = p_wta[dec_id, torch.arange(batch_size), :, :dy]\n",
    "            val_loss_wta = mse_loss(vp_means, tr_wta).item()\n",
    "            validation_error_wta.append(val_loss_wta)\n",
    "            if val_loss_wta < min_val_loss_wta:\n",
    "                min_val_loss_wta = val_loss_wta\n",
    "                print(f'(WTA)New best: {min_val_loss_wta}')\n",
    "                torch.save(model_wta.state_dict(), f'saved_models/wta_on_synth_{file_name}.pt')\n",
    "\n",
    "            pred_cnp, encoded_rep = model_cnp(o_cnp, t_cnp)\n",
    "            val_loss_cnp = mse_loss(pred_cnp[:, :, :model_cnp.output_dim], tr_cnp)\n",
    "            validation_error_cnp.append(val_loss_cnp.item())\n",
    "            if val_loss_cnp < min_val_loss_cnp:\n",
    "                min_val_loss_cnp = val_loss_cnp\n",
    "                print(f'(CNP)New best: {min_val_loss_cnp}')\n",
    "                torch.save(model_cnp.state_dict(), f'saved_models/cnp_on_synth_{file_name}.pt')\n",
    "\n",
    "\n",
    "    avg_loss_wta += epoch_loss_wta\n",
    "    avg_loss_cnp += epoch_loss_cnp\n",
    "\n",
    "    if epoch % 100 == 0:\n",
    "        print(\"Epoch: {}, WTA-Loss: {}, CNP-Loss: {}\".format(epoch, avg_loss_wta/100, avg_loss_cnp/100))\n",
    "        avg_loss_wta, avg_loss_cnp = 0, 0\n",
    "\n",
    "    if epoch % 100000:\n",
    "        torch.save(torch.Tensor(training_loss_wta), wta_tr_loss_path)\n",
    "        torch.save(torch.Tensor(validation_error_wta), wta_val_err_path)\n",
    "        torch.save(torch.Tensor(training_loss_cnp), cnp_tr_loss_path)\n",
    "        torch.save(torch.Tensor(validation_error_cnp), cnp_val_err_path)\n"
   ]
  },
  {
   "cell_type": "code",
   "execution_count": null,
   "metadata": {},
   "outputs": [],
   "source": []
  }
 ],
 "metadata": {
  "kernelspec": {
   "display_name": "Python 3",
   "language": "python",
   "name": "python3"
  },
  "language_info": {
   "codemirror_mode": {
    "name": "ipython",
    "version": 3
   },
   "file_extension": ".py",
   "mimetype": "text/x-python",
   "name": "python",
   "nbconvert_exporter": "python",
   "pygments_lexer": "ipython3",
   "version": "3.8.10"
  },
  "orig_nbformat": 4
 },
 "nbformat": 4,
 "nbformat_minor": 2
}
