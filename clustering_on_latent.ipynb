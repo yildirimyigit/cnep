{
 "cells": [
  {
   "cell_type": "code",
   "execution_count": 1,
   "metadata": {},
   "outputs": [
    {
     "name": "stderr",
     "output_type": "stream",
     "text": [
      "/home/yigit/.local/lib/python3.8/site-packages/torch/cuda/__init__.py:82: UserWarning: CUDA initialization: CUDA unknown error - this may be due to an incorrectly set up environment, e.g. changing env variable CUDA_VISIBLE_DEVICES after program start. Setting the available devices to be zero. (Triggered internally at  ../c10/cuda/CUDAFunctions.cpp:112.)\n",
      "  return torch._C._cuda_getDeviceCount() > 0\n"
     ]
    }
   ],
   "source": [
    "from models.cnp import CNP\n",
    "from data.data_generators import *\n",
    "import torch\n",
    "\n",
    "if torch.cuda.is_available():\n",
    "    device = torch.device(\"cuda:0\")\n",
    "else:\n",
    "    device = torch.device(\"cpu\")\n",
    "device = torch.device(\"cpu\")"
   ]
  },
  {
   "cell_type": "code",
   "execution_count": 2,
   "metadata": {},
   "outputs": [
    {
     "name": "stdout",
     "output_type": "stream",
     "text": [
      "torch.Size([128, 200, 1]) torch.Size([128, 200, 1])\n"
     ]
    }
   ],
   "source": [
    "import matplotlib.pyplot as plt\n",
    "\n",
    "dx = 1\n",
    "t_steps = 200\n",
    "x = torch.linspace(0, 1, t_steps).view(-1, 1)\n",
    "\n",
    "generator_functions = [generate_sin, generate_cos, generate_cx_sigm, \n",
    "    generate_reverse_cx_sigm]\n",
    "y = []\n",
    "for i in range(32):\n",
    "    for j in range(4):\n",
    "        y.append(generator_functions[j](x))\n",
    "\n",
    "colors = [\"b\", \"r\", \"g\", \"y\"]\n",
    "num_classes = 4\n",
    "# for i, y_i in enumerate(y):\n",
    "#     plt.plot(y_i, alpha=0.5, c=colors[i%num_classes])\n",
    "\n",
    "x = x.unsqueeze(0).repeat(len(y), 1, 1).to(device)\n",
    "y = torch.stack(y, dim=0).to(device)\n",
    "\n",
    "print(x.shape, y.shape)"
   ]
  },
  {
   "cell_type": "code",
   "execution_count": 3,
   "metadata": {},
   "outputs": [],
   "source": [
    "model = CNP().to(device)\n",
    "optimizer = torch.optim.Adam(lr=1e-4, params=model.parameters())"
   ]
  },
  {
   "cell_type": "code",
   "execution_count": 6,
   "metadata": {},
   "outputs": [
    {
     "name": "stdout",
     "output_type": "stream",
     "text": [
      "Epoch: 0, Loss: 0.007445525601506233\n",
      "Epoch: 100, Loss: 0.14672149170306512\n",
      "Epoch: 200, Loss: -1.0893711518682538\n",
      "Epoch: 300, Loss: -2.1737139506917447\n",
      "Epoch: 400, Loss: -2.991160924914293\n",
      "Epoch: 500, Loss: -3.4980013927444817\n",
      "Epoch: 600, Loss: -3.961383874937892\n",
      "Epoch: 700, Loss: -4.170349263735115\n",
      "Epoch: 800, Loss: -4.336744393482804\n",
      "Epoch: 900, Loss: -4.90832523311954\n",
      "Epoch: 1000, Loss: -5.016798186213709\n",
      "Epoch: 1100, Loss: -5.211480433990946\n",
      "Epoch: 1200, Loss: -5.344090505894274\n",
      "Epoch: 1300, Loss: -5.605139792710543\n",
      "Epoch: 1400, Loss: -5.4330125986039635\n",
      "Epoch: 1500, Loss: -5.733968786882906\n",
      "Epoch: 1600, Loss: -5.9872975467517975\n",
      "Epoch: 1700, Loss: -6.042100911485031\n",
      "Epoch: 1800, Loss: -6.337012160718441\n",
      "Epoch: 1900, Loss: -6.482782393395901\n",
      "Epoch: 2000, Loss: -6.632371667325497\n",
      "Epoch: 2100, Loss: -6.976678997073322\n",
      "Epoch: 2200, Loss: -7.00452666502446\n",
      "Epoch: 2300, Loss: -6.776889508739114\n",
      "Epoch: 2400, Loss: -7.119122694805265\n"
     ]
    }
   ],
   "source": [
    "def get_batch(x, y, traj_ids):\n",
    "    n = x.shape[1]\n",
    "    n_t = torch.randint(1, model.n_max_tar, (1,)).item()\n",
    "    n_o = torch.randint(1, model.n_max_obs, (1,)).item()\n",
    "\n",
    "    obs = torch.zeros(batch_size, n_o, model.input_dim+model.output_dim).to(device)\n",
    "    tar = torch.zeros(batch_size, n_t, model.input_dim).to(device)\n",
    "    tar_val = torch.zeros(batch_size, n_t, model.output_dim).to(device)\n",
    "\n",
    "    for i in range(len(traj_ids)):\n",
    "        random_query_ids = torch.randperm(n)\n",
    "        o_ids = random_query_ids[:n_o]\n",
    "        t_ids = random_query_ids[n_o:n_o+n_t]\n",
    "\n",
    "        # print(x.shape, traj_ids[i], o_ids, t_ids)\n",
    "\n",
    "        obs[i, :, :] = torch.cat((x[traj_ids[i], o_ids], y[traj_ids[i], o_ids]), dim=-1)\n",
    "        tar[i, :, :] = x[traj_ids[i], t_ids]\n",
    "        tar_val[i, :, :] = y[traj_ids[i], t_ids]\n",
    "\n",
    "    return obs, tar, tar_val\n",
    "\n",
    "\n",
    "batch_size = 32\n",
    "epochs = 2500\n",
    "epoch_iter = 4\n",
    "min_loss = 1000000\n",
    "avg_loss = 0\n",
    "\n",
    "for epoch in range(epochs):\n",
    "    epoch_loss = 0\n",
    "\n",
    "    traj_ids = torch.randperm(x.shape[0]).chunk(epoch_iter)\n",
    "\n",
    "    for i in range(epoch_iter):\n",
    "        optimizer.zero_grad()\n",
    "        obs, tar_x, tar_y = get_batch(x, y, traj_ids[i])\n",
    "        pred, encoded_rep = model(obs, tar_x)\n",
    "        loss = model.loss(pred, tar_y)\n",
    "        loss.backward()\n",
    "        optimizer.step()\n",
    "\n",
    "        epoch_loss += loss.item()\n",
    "\n",
    "    if epoch_loss < min_loss and epoch > 5e4:\n",
    "        min_loss = epoch_loss\n",
    "        torch.save(model.state_dict(), f'cnp_on_latent_model.pt')\n",
    "\n",
    "    avg_loss += epoch_loss\n",
    "\n",
    "    if epoch % 100 == 0:\n",
    "        print(\"Epoch: {}, Loss: {}\".format(epoch, avg_loss/100))\n",
    "        avg_loss = 0"
   ]
  },
  {
   "cell_type": "code",
   "execution_count": 25,
   "metadata": {},
   "outputs": [
    {
     "name": "stdout",
     "output_type": "stream",
     "text": [
      "torch.Size([128, 1, 256])\n"
     ]
    }
   ],
   "source": [
    "model = CNP().to(device)\n",
    "model.load_state_dict(torch.load('cnp_on_latent_model.pt'))\n",
    "model.eval()\n",
    "\n",
    "batch_size = 128\n",
    "o, t, tr = get_batch(x, y, torch.arange(batch_size))\n",
    "\n",
    "with torch.no_grad():\n",
    "    _, r = model(o, t)\n",
    "\n",
    "print(r.shape)"
   ]
  },
  {
   "cell_type": "code",
   "execution_count": 26,
   "metadata": {},
   "outputs": [
    {
     "name": "stdout",
     "output_type": "stream",
     "text": [
      "1.5\n",
      "[0 3 2 1 0 3 2 1 0 3 2 1 0 3 2 1 0 3 2 1 0 3 2 1 0 3 2 1 0 3 2 1 0 3 2 1 0\n",
      " 3 2 1 0 3 2 1 0 3 2 1 0 3 2 1 0 3 2 1 0 3 2 1 0 3 2 1 0 3 2 1 0 3 2 1 0 3\n",
      " 2 1 0 3 2 1 0 3 2 1 0 3 2 1 0 3 2 1 0 3 2 1 0 3 2 1 0 3 2 1 0 3 2 1 0 3 2\n",
      " 1 0 3 2 1 0 3 2 1 0 3 2 1 0 3 2 1]\n"
     ]
    },
    {
     "data": {
      "text/plain": [
       "<matplotlib.collections.PathCollection at 0x7f06d682c6a0>"
      ]
     },
     "execution_count": 26,
     "metadata": {},
     "output_type": "execute_result"
    },
    {
     "data": {
      "image/png": "[encoded data removed]",
      "text/plain": [
       "<Figure size 432x288 with 1 Axes>"
      ]
     },
     "metadata": {
      "needs_background": "light"
     },
     "output_type": "display_data"
    }
   ],
   "source": [
    "import numpy as np\n",
    "from sklearn.cluster import KMeans\n",
    "from sklearn.decomposition import PCA\n",
    "\n",
    "latent_values = r.squeeze(1).cpu().numpy()\n",
    "kmeans = KMeans(n_clusters=4, random_state=100)\n",
    "labels = kmeans.fit_predict(latent_values)\n",
    "\n",
    "print(np.mean(labels), labels, sep='\\n')\n",
    "pca = PCA(n_components=2)\n",
    "reduced_latent = pca.fit_transform(latent_values)\n",
    "\n",
    "label_colors = []\n",
    "for i in labels:\n",
    "    label_colors.append(colors[i])\n",
    "plt.scatter(reduced_latent[:, 0], reduced_latent[:, 1], c=label_colors, s=30)\n"
   ]
  },
  {
   "cell_type": "code",
   "execution_count": null,
   "metadata": {},
   "outputs": [],
   "source": []
  }
 ],
 "metadata": {
  "kernelspec": {
   "display_name": "Python 3",
   "language": "python",
   "name": "python3"
  },
  "language_info": {
   "codemirror_mode": {
    "name": "ipython",
    "version": 3
   },
   "file_extension": ".py",
   "mimetype": "text/x-python",
   "name": "python",
   "nbconvert_exporter": "python",
   "pygments_lexer": "ipython3",
   "version": "3.8.10"
  },
  "orig_nbformat": 4,
  "vscode": {
   "interpreter": {
    "hash": "e7370f93d1d0cde622a1f8e1c04877d8463912d04d973331ad4851f04de6915a"
   }
  }
 },
 "nbformat": 4,
 "nbformat_minor": 2
}
