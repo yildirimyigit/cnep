{
 "cells": [
  {
   "cell_type": "code",
   "execution_count": 1,
   "metadata": {},
   "outputs": [],
   "source": [
    "import sys\n",
    "import torch\n",
    "import numpy as np\n",
    "import math\n",
    "\n",
    "import matplotlib.pyplot as plt\n",
    "import seaborn as sns\n",
    "\n",
    "\n",
    "folder_path = 'models/'\n",
    "if folder_path not in sys.path:\n",
    "    sys.path.append(folder_path)\n",
    "\n",
    "from cnep import CNEP\n",
    "\n",
    "device = torch.device(\"cpu\")"
   ]
  },
  {
   "cell_type": "code",
   "execution_count": 2,
   "metadata": {},
   "outputs": [
    {
     "name": "stdout",
     "output_type": "stream",
     "text": [
      "x: torch.Size([200, 1]), Y: torch.Size([128, 200, 1])\n"
     ]
    }
   ],
   "source": [
    "root_path = '/home/yigit/projects/cnep/outputs/'\n",
    "test_type = 'ablation/sines_4/'\n",
    "test_path = '2_4_8/1718015585/'\n",
    "run_path = root_path + test_type + test_path\n",
    "\n",
    "data_path = run_path + 'y.pt'\n",
    "\n",
    "Y = torch.load(data_path, map_location='cpu').to('cpu')\n",
    "x = torch.linspace(0, 1, Y.shape[1]).unsqueeze(-1)\n",
    "print(f'x: {x.shape}, Y: {Y.shape}')\n",
    "\n",
    "num_demos = Y.shape[0]\n",
    "t_steps = Y.shape[1]\n",
    "\n",
    "criterion = torch.nn.MSELoss()"
   ]
  },
  {
   "cell_type": "code",
   "execution_count": 3,
   "metadata": {},
   "outputs": [],
   "source": [
    "model_folder = 'saved_models/'\n",
    "models_path = f'{run_path}{model_folder}'\n",
    "\n",
    "m2_path, m4_path, m8_path = f'{models_path}cnep2.pt', f'{models_path}cnep4.pt', f'{models_path}cnep8.pt'\n",
    "\n",
    "batch_size = 1\n",
    "dx, dy = 1, 1\n",
    "n_max, m_max = 10, 10\n",
    "t_steps = Y.shape[1]\n",
    "device = 'cpu'\n",
    "\n",
    "cnep2 = CNEP(dx, dy, n_max, m_max, [64,64], num_decoders=2, decoder_hidden_dims=[130, 130], batch_size=batch_size, scale_coefs=True, device=device)\n",
    "cnep4 = CNEP(dx, dy, n_max, m_max, [64,64], num_decoders=4, decoder_hidden_dims=[64, 64], batch_size=batch_size, scale_coefs=True, device=device)\n",
    "cnep8 = CNEP(dx, dy, n_max, m_max, [64,64], num_decoders=8, decoder_hidden_dims=[32, 32], batch_size=batch_size, scale_coefs=True, device=device)\n",
    "\n",
    "cnep2.load_state_dict(torch.load(m2_path, map_location='cpu'))\n",
    "cnep4.load_state_dict(torch.load(m4_path, map_location='cpu'))\n",
    "cnep8.load_state_dict(torch.load(m8_path, map_location='cpu'))\n",
    "\n",
    "\n",
    "# data for testing cnxp\n",
    "val_obs = torch.zeros((batch_size, n_max, dx+dy), dtype=torch.float32, device=device)\n",
    "val_tar_x = torch.zeros((batch_size, t_steps, dx), dtype=torch.float32, device=device)\n",
    "# val_tar_y = torch.zeros((batch_size, t_steps, dy), dtype=torch.float32, device=device)\n",
    "val_obs_mask = torch.zeros((batch_size, n_max), dtype=torch.bool, device=device)"
   ]
  },
  {
   "cell_type": "code",
   "execution_count": 4,
   "metadata": {},
   "outputs": [],
   "source": [
    "def find_closest_traj_ind(traj):\n",
    "    # find the closest trajectory in the dataset\n",
    "    min_dist = np.inf\n",
    "    min_ind = -1\n",
    "    for i, y in enumerate(Y):\n",
    "        dist = criterion(y, traj[0]).item()\n",
    "        if dist < min_dist:\n",
    "            min_dist = dist\n",
    "            min_ind = i\n",
    "    return min_ind, min_dist"
   ]
  },
  {
   "cell_type": "code",
   "execution_count": 5,
   "metadata": {},
   "outputs": [
    {
     "name": "stderr",
     "output_type": "stream",
     "text": [
      "100%|██████████| 1000/1000 [00:12<00:00, 78.90it/s]\n"
     ]
    }
   ],
   "source": [
    "from tqdm import tqdm\n",
    "num_tests = 1000\n",
    "\n",
    "euc_errors = np.zeros((num_tests, 3))\n",
    "\n",
    "for test_id in tqdm(range(num_tests)):\n",
    "    val_obs.fill_(0)\n",
    "    val_tar_x.fill_(0)\n",
    "    val_obs_mask.fill_(False)\n",
    "    ###############\n",
    "    m = torch.randint(1, m_max, (1,)).item()\n",
    "    val_obs_mask[0, :m] = True\n",
    "    val_tar_x = torch.linspace(0, 1, t_steps).unsqueeze(0).unsqueeze(-1)\n",
    "    ###############\n",
    "    m_ids = torch.randperm(t_steps)[:m]\n",
    "    for i in range(m):\n",
    "        y_min, y_max = torch.min(Y[:, m_ids[i], 0]), torch.max(Y[:, m_ids[i], 0])\n",
    "        val_obs[0, i, 0] = torch.rand(1)*(y_max-y_min) + y_min + 0.1*torch.randn(1)\n",
    "\n",
    "\n",
    "    with torch.no_grad():\n",
    "        pred_cnep, gate = cnep2.val(val_obs, val_tar_x, val_obs_mask)\n",
    "        dec_id = torch.argmax(gate.squeeze(1), dim=-1)\n",
    "        traj2 = pred_cnep[dec_id, 0, :, :dy]\n",
    "\n",
    "        pred_cnep, gate = cnep4.val(val_obs, val_tar_x, val_obs_mask)\n",
    "        dec_id = torch.argmax(gate.squeeze(1), dim=-1)\n",
    "        traj4 = pred_cnep[dec_id, 0, :, :dy]\n",
    "\n",
    "        pred_cnep, gate = cnep8.val(val_obs, val_tar_x, val_obs_mask)\n",
    "        dec_id = torch.argmax(gate.squeeze(1), dim=-1)\n",
    "        traj8 = pred_cnep[dec_id, 0, :, :dy]\n",
    "\n",
    "        closest_traj_ind, closest_dist = find_closest_traj_ind(traj2)\n",
    "        euc_errors[test_id, 0] = closest_dist / t_steps\n",
    "        closest_traj_ind, closest_dist = find_closest_traj_ind(traj4)\n",
    "        euc_errors[test_id, 1] = closest_dist / t_steps\n",
    "        closest_traj_ind, closest_dist = find_closest_traj_ind(traj8)\n",
    "        euc_errors[test_id, 2] = closest_dist / t_steps"
   ]
  },
  {
   "cell_type": "code",
   "execution_count": 6,
   "metadata": {},
   "outputs": [
    {
     "name": "stdout",
     "output_type": "stream",
     "text": [
      "[1.38781485e-03 1.46971401e-04 9.76262219e-05]\n"
     ]
    }
   ],
   "source": [
    "print(euc_errors.mean(axis=0))"
   ]
  },
  {
   "cell_type": "code",
   "execution_count": null,
   "metadata": {},
   "outputs": [],
   "source": []
  }
 ],
 "metadata": {
  "kernelspec": {
   "display_name": "base",
   "language": "python",
   "name": "python3"
  },
  "language_info": {
   "codemirror_mode": {
    "name": "ipython",
    "version": 3
   },
   "file_extension": ".py",
   "mimetype": "text/x-python",
   "name": "python",
   "nbconvert_exporter": "python",
   "pygments_lexer": "ipython3",
   "version": "3.10.13"
  }
 },
 "nbformat": 4,
 "nbformat_minor": 2
}
