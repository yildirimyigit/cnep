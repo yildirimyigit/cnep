{
 "cells": [
  {
   "cell_type": "code",
   "execution_count": 6,
   "metadata": {},
   "outputs": [
    {
     "data": {
      "text/plain": [
       "WTA_CNP(\n",
       "  (encoder): Sequential(\n",
       "    (0): Linear(in_features=63, out_features=512, bias=True)\n",
       "    (1): ReLU()\n",
       "    (2): Linear(in_features=512, out_features=512, bias=True)\n",
       "    (3): ReLU()\n",
       "    (4): Linear(in_features=512, out_features=512, bias=True)\n",
       "  )\n",
       "  (decoders): ModuleList(\n",
       "    (0): Sequential(\n",
       "      (0): Linear(in_features=513, out_features=512, bias=True)\n",
       "      (1): ReLU()\n",
       "      (2): Linear(in_features=512, out_features=512, bias=True)\n",
       "      (3): ReLU()\n",
       "      (4): Linear(in_features=512, out_features=124, bias=True)\n",
       "    )\n",
       "  )\n",
       "  (gate): Sequential(\n",
       "    (0): Linear(in_features=512, out_features=1, bias=True)\n",
       "    (1): Softmax(dim=-1)\n",
       "  )\n",
       ")"
      ]
     },
     "execution_count": 6,
     "metadata": {},
     "output_type": "execute_result"
    }
   ],
   "source": [
    "import os\n",
    "import torch\n",
    "from models.wta_cnp import WTA_CNP\n",
    "\n",
    "\n",
    "root_path = \"/home/yigit/projects/mbcnp/outputs/experimental/62D/\"\n",
    "run_id, model_folder = f'1700927469', 'saved_models/'\n",
    "run_folder = f'{root_path}{run_id}/'\n",
    "models_path = f'{run_folder}{model_folder}'\n",
    "\n",
    "wta_model_path = f'{models_path}wta_on_synth.pt'\n",
    "\n",
    "y = torch.load(f'{run_folder}y.pt').cpu()\n",
    "num_samples, t_steps, dy = y.shape\n",
    "dx = 1\n",
    "batch_size = 1\n",
    "\n",
    "x = torch.linspace(0, 1, t_steps).repeat(batch_size, 1).view(batch_size, -1, 1)\n",
    "colors = ['tomato', 'aqua', 'limegreen', 'gold', 'mediumslateblue', 'lightcoral', 'darkorange', 'teal']\n",
    "\n",
    "wta = WTA_CNP(1, dy, 10, 10, [512, 512, 512], num_decoders=1, decoder_hidden_dims=[512, 512, 512], batch_size=batch_size)\n",
    "\n",
    "wta.load_state_dict(torch.load(wta_model_path))\n",
    "wta.eval()"
   ]
  },
  {
   "cell_type": "code",
   "execution_count": 7,
   "metadata": {},
   "outputs": [],
   "source": [
    "def get_batch(idx=[0], cond_idx=[0]):\n",
    "    batch_obs = torch.zeros(batch_size, len(cond_idx), dy+dx, dtype=torch.float32)\n",
    "    batch_obs[:, :, 0] = x[0, cond_idx, 0]\n",
    "\n",
    "    batch_obs[:, :, 1:] = y[idx, cond_idx, :].view(batch_size, len(cond_idx), dy)\n",
    "    \n",
    "    return batch_obs, y[idx, :, :]"
   ]
  },
  {
   "cell_type": "code",
   "execution_count": 8,
   "metadata": {},
   "outputs": [
    {
     "name": "stdout",
     "output_type": "stream",
     "text": [
      "torch.Size([1, 1, 63]) torch.Size([1, 781, 62]) torch.Size([1, 781, 1])\n"
     ]
    }
   ],
   "source": [
    "test_ind = 0\n",
    "tar = torch.linspace(0, 1, t_steps).unsqueeze(0).unsqueeze(-1).repeat(batch_size, 1, 1)\n",
    "\n",
    "obs, real_y = get_batch(list(range(batch_size)), [test_ind])\n",
    "\n",
    "print(obs.shape, real_y.shape, tar.shape)\n",
    "\n",
    "with torch.no_grad():\n",
    "    pred_wta, gate = wta(obs, tar)\n",
    "\n",
    "out_traj = pred_wta[0, 0, :, :dy].cpu().numpy()"
   ]
  },
  {
   "cell_type": "code",
   "execution_count": 9,
   "metadata": {},
   "outputs": [
    {
     "name": "stdout",
     "output_type": "stream",
     "text": [
      "(781, 62)\n"
     ]
    }
   ],
   "source": [
    "print(out_traj.shape)"
   ]
  },
  {
   "cell_type": "code",
   "execution_count": 10,
   "metadata": {},
   "outputs": [],
   "source": [
    "from dm_control.locomotion.walkers.cmu_humanoid import _POSITION_ACTUATORS\n",
    "\n",
    "#dm_control_dim_id: mocap_dim_id\n",
    "indices = {0:16,1:17,2:18,3:50,4:51,5:52,6:47,7:48,8:49,9:19,\n",
    "           10:20,11:21,12:53,13:54,14:55,15:0,16:1,17:2,18:28,19:29,\n",
    "           20:38,21:39,22:40,23:41,24:46,25:36,26:37,27:33,28:42,29:43,\n",
    "           30:3,31:4,32:13,33:14,34:15,35:22,36:27,37:11,38:12,39:8,\n",
    "           40:23,41:24,42:30,43:31,44:32,45:44,46:34,47:35,48:45,49:5,\n",
    "           50:6,51:7,52:25,53:9,54:10,55:26}\n",
    "\n",
    "dm_traj = torch.zeros((t_steps, 56))\n",
    "for i in range(t_steps):\n",
    "    for j in range(56):\n",
    "        dm_traj[i, j] = torch.tensor(out_traj[i, indices[j]])"
   ]
  },
  {
   "cell_type": "code",
   "execution_count": 2,
   "metadata": {},
   "outputs": [],
   "source": [
    "from dm_control import composer\n",
    "from dm_control.locomotion.arenas import floors\n",
    "from dm_control.locomotion.mocap import cmu_mocap_data\n",
    "from dm_control.locomotion.mocap import loader\n",
    "from dm_control.locomotion.tasks.reference_pose import tracking\n",
    "from dm_control.locomotion.tasks.reference_pose import utils\n",
    "from dm_control.locomotion.walkers import cmu_humanoid\n",
    "from dm_control.locomotion.walkers import initializers\n",
    "from dm_control.suite.wrappers import action_noise\n",
    "import numpy as np\n",
    "import tree\n",
    "import mujoco\n",
    "\n",
    "class StandInitializer(initializers.WalkerInitializer):\n",
    "    def __init__(self):\n",
    "        ref_path = cmu_mocap_data.get_path_for_cmu(version='2020')\n",
    "        mocap_loader = loader.HDF5TrajectoryLoader(ref_path)\n",
    "        trajectory = mocap_loader.get_trajectory('CMU_049_06')\n",
    "        clip_reference_features = trajectory.as_dict()\n",
    "        clip_reference_features = tracking._strip_reference_prefix(clip_reference_features, 'walker/')\n",
    "        self._stand_features = tree.map_structure(lambda x: x[0], clip_reference_features)\n",
    "\n",
    "    def initialize_pose(self, physics, walker, random_state):\n",
    "        del random_state\n",
    "        utils.set_walker_from_features(physics, walker, self._stand_features)\n",
    "        mujoco.mj_kinematics(physics.model.ptr, physics.data.ptr)"
   ]
  },
  {
   "cell_type": "code",
   "execution_count": 7,
   "metadata": {},
   "outputs": [
    {
     "ename": "NameError",
     "evalue": "name 'out_traj' is not defined",
     "output_type": "error",
     "traceback": [
      "\u001b[0;31m---------------------------------------------------------------------------\u001b[0m",
      "\u001b[0;31mNameError\u001b[0m                                 Traceback (most recent call last)",
      "\u001b[1;32m/home/yigit/projects/mbcnp/exp_position_controlled_cnep.ipynb Cell 7\u001b[0m line \u001b[0;36m2\n\u001b[1;32m     <a href='vscode-notebook-cell:/home/yigit/projects/mbcnp/exp_position_controlled_cnep.ipynb#W6sZmlsZQ%3D%3D?line=23'>24</a>\u001b[0m \u001b[39m# print(te[3])\u001b[39;00m\n\u001b[1;32m     <a href='vscode-notebook-cell:/home/yigit/projects/mbcnp/exp_position_controlled_cnep.ipynb#W6sZmlsZQ%3D%3D?line=24'>25</a>\u001b[0m \n\u001b[1;32m     <a href='vscode-notebook-cell:/home/yigit/projects/mbcnp/exp_position_controlled_cnep.ipynb#W6sZmlsZQ%3D%3D?line=25'>26</a>\u001b[0m \u001b[39m# Run the simulation\u001b[39;00m\n\u001b[1;32m     <a href='vscode-notebook-cell:/home/yigit/projects/mbcnp/exp_position_controlled_cnep.ipynb#W6sZmlsZQ%3D%3D?line=26'>27</a>\u001b[0m \u001b[39mfor\u001b[39;00m t \u001b[39min\u001b[39;00m \u001b[39mrange\u001b[39m(\u001b[39m3\u001b[39m):\n\u001b[0;32m---> <a href='vscode-notebook-cell:/home/yigit/projects/mbcnp/exp_position_controlled_cnep.ipynb#W6sZmlsZQ%3D%3D?line=27'>28</a>\u001b[0m     a \u001b[39m=\u001b[39m walker\u001b[39m.\u001b[39mcmu_pose_to_actuation(out_traj[t])\n\u001b[1;32m     <a href='vscode-notebook-cell:/home/yigit/projects/mbcnp/exp_position_controlled_cnep.ipynb#W6sZmlsZQ%3D%3D?line=28'>29</a>\u001b[0m     s \u001b[39m=\u001b[39m env\u001b[39m.\u001b[39mstep(a)\n\u001b[1;32m     <a href='vscode-notebook-cell:/home/yigit/projects/mbcnp/exp_position_controlled_cnep.ipynb#W6sZmlsZQ%3D%3D?line=29'>30</a>\u001b[0m     \u001b[39m# print(s)\u001b[39;00m\n\u001b[1;32m     <a href='vscode-notebook-cell:/home/yigit/projects/mbcnp/exp_position_controlled_cnep.ipynb#W6sZmlsZQ%3D%3D?line=30'>31</a>\u001b[0m     \u001b[39m# print(s[3].shape)\u001b[39;00m\n\u001b[1;32m     <a href='vscode-notebook-cell:/home/yigit/projects/mbcnp/exp_position_controlled_cnep.ipynb#W6sZmlsZQ%3D%3D?line=31'>32</a>\u001b[0m \n\u001b[1;32m     <a href='vscode-notebook-cell:/home/yigit/projects/mbcnp/exp_position_controlled_cnep.ipynb#W6sZmlsZQ%3D%3D?line=32'>33</a>\u001b[0m \u001b[39m# Close the environment\u001b[39;00m\n",
      "\u001b[0;31mNameError\u001b[0m: name 'out_traj' is not defined"
     ]
    }
   ],
   "source": [
    "import time\n",
    "from dm_control import viewer\n",
    "\n",
    "from dm_control import composer\n",
    "from dm_control.locomotion import arenas\n",
    "\n",
    "from dm_control.locomotion.mocap import cmu_mocap_data\n",
    "from dm_control.locomotion.tasks import go_to_target\n",
    "\n",
    "from dm_control.locomotion.walkers import cmu_humanoid\n",
    "from dm_control.suite import humanoid_CMU\n",
    "\n",
    "initializer = StandInitializer()\n",
    "walker = cmu_humanoid.CMUHumanoidPositionControlledV2020(initializer=initializer)\n",
    "\n",
    "# Build an empty arena.\n",
    "arena = arenas.Floor()\n",
    "\n",
    "env = humanoid_CMU.stand()\n",
    "\n",
    "# Viewer for visualization\n",
    "viewer.launch(env)\n",
    "te = env.reset()\n",
    "# print(te[3])\n",
    "\n",
    "# Run the simulation\n",
    "for t in range(3):\n",
    "    a = walker.cmu_pose_to_actuation(out_traj[t])\n",
    "    s = env.step(a)\n",
    "    # print(s)\n",
    "    # print(s[3].shape)\n",
    "\n",
    "# Close the environment\n",
    "env.close()"
   ]
  },
  {
   "cell_type": "code",
   "execution_count": 21,
   "metadata": {},
   "outputs": [
    {
     "name": "stdout",
     "output_type": "stream",
     "text": [
      "(227,)\n"
     ]
    }
   ],
   "source": [
    "# for k in s[3].keys():\n",
    "#     print(k, s[3][k].shape)\n",
    "\n",
    "vals = s[3].values()\n",
    "values_list = [v.flatten() for v in vals]\n",
    "v = np.concatenate(values_list)\n",
    "print(v.shape)"
   ]
  },
  {
   "cell_type": "code",
   "execution_count": null,
   "metadata": {},
   "outputs": [],
   "source": []
  }
 ],
 "metadata": {
  "kernelspec": {
   "display_name": "Python 3",
   "language": "python",
   "name": "python3"
  },
  "language_info": {
   "codemirror_mode": {
    "name": "ipython",
    "version": 3
   },
   "file_extension": ".py",
   "mimetype": "text/x-python",
   "name": "python",
   "nbconvert_exporter": "python",
   "pygments_lexer": "ipython3",
   "version": "3.8.10"
  }
 },
 "nbformat": 4,
 "nbformat_minor": 2
}
