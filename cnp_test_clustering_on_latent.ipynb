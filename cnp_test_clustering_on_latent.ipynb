{
 "cells": [
  {
   "cell_type": "code",
   "execution_count": 1,
   "metadata": {},
   "outputs": [],
   "source": [
    "from models.cnp import CNP\n",
    "from data.data_generators import *\n",
    "import torch\n",
    "\n",
    "if torch.cuda.is_available():\n",
    "    device = torch.device(\"cuda:0\")\n",
    "else:\n",
    "    device = torch.device(\"cpu\")\n",
    "# device = torch.device(\"cpu\")"
   ]
  },
  {
   "cell_type": "code",
   "execution_count": 2,
   "metadata": {},
   "outputs": [
    {
     "name": "stdout",
     "output_type": "stream",
     "text": [
      "torch.Size([128, 200, 1]) torch.Size([128, 200, 1])\n"
     ]
    }
   ],
   "source": [
    "import matplotlib.pyplot as plt\n",
    "\n",
    "dx = 1\n",
    "t_steps = 200\n",
    "x = torch.linspace(0, 1, t_steps).view(-1, 1)\n",
    "\n",
    "generator_functions = [generate_sin, generate_cos, generate_cx_sigm, \n",
    "    generate_reverse_cx_sigm]\n",
    "y = []\n",
    "for i in range(32):\n",
    "    for j in range(4):\n",
    "        y.append(generator_functions[j](x))\n",
    "\n",
    "colors = [\"b\", \"r\", \"g\", \"y\"]\n",
    "num_classes = 4\n",
    "# for i, y_i in enumerate(y):\n",
    "#     plt.plot(y_i, alpha=0.5, c=colors[i%num_classes])\n",
    "\n",
    "x = x.unsqueeze(0).repeat(len(y), 1, 1).to(device)\n",
    "y = torch.stack(y, dim=0).to(device)\n",
    "\n",
    "print(x.shape, y.shape)"
   ]
  },
  {
   "cell_type": "code",
   "execution_count": 25,
   "metadata": {},
   "outputs": [],
   "source": [
    "model = CNP(input_dim=1, hidden_dim=287, output_dim=1, n_max_obs=10, n_max_tar=10, num_layers=2, batch_size=32).to(device)\n",
    "optimizer = torch.optim.Adam(lr=1e-4, params=model.parameters())"
   ]
  },
  {
   "cell_type": "code",
   "execution_count": 19,
   "metadata": {},
   "outputs": [
    {
     "name": "stdout",
     "output_type": "stream",
     "text": [
      "Epoch: 0, Loss: 0.030433672070503234\n"
     ]
    }
   ],
   "source": [
    "def get_batch(x, y, traj_ids):\n",
    "    dx, dy = x.shape[-1], y.shape[-1]\n",
    "    n = x.shape[1]\n",
    "    n_t = torch.randint(1, model.n_max_tar, (1,)).item()\n",
    "    n_o = torch.randint(1, model.n_max_obs, (1,)).item()\n",
    "\n",
    "    obs = torch.zeros(batch_size, n_o, dx+dy).to(device)\n",
    "    tar = torch.zeros(batch_size, n_t, dx).to(device)\n",
    "    tar_val = torch.zeros(batch_size, n_t, dy).to(device)\n",
    "\n",
    "    for i in range(len(traj_ids)):\n",
    "        random_query_ids = torch.randperm(n)\n",
    "        o_ids = random_query_ids[:n_o]\n",
    "        t_ids = random_query_ids[n_o:n_o+n_t]\n",
    "\n",
    "        # print(x.shape, traj_ids[i], o_ids, t_ids)\n",
    "\n",
    "        obs[i, :, :] = torch.cat((x[traj_ids[i], o_ids], y[traj_ids[i], o_ids]), dim=-1)\n",
    "        tar[i, :, :] = x[traj_ids[i], t_ids]\n",
    "        tar_val[i, :, :] = y[traj_ids[i], t_ids]\n",
    "\n",
    "    return obs, tar, tar_val\n",
    "\n",
    "\n",
    "batch_size = 32\n",
    "epochs = 5\n",
    "epoch_iter = 4\n",
    "min_loss = 1000000\n",
    "avg_loss = 0\n",
    "\n",
    "for epoch in range(epochs):\n",
    "    epoch_loss = 0\n",
    "\n",
    "    traj_ids = torch.randperm(x.shape[0])[:batch_size*epoch_iter].chunk(epoch_iter)\n",
    "\n",
    "    for i in range(epoch_iter):\n",
    "        optimizer.zero_grad()\n",
    "        obs, tar_x, tar_y = get_batch(x, y, traj_ids[i])\n",
    "        pred, encoded_rep = model(obs, tar_x)\n",
    "        loss = model.loss(pred, tar_y)\n",
    "        loss.backward()\n",
    "        optimizer.step()\n",
    "\n",
    "        epoch_loss += loss.item()\n",
    "\n",
    "    if epoch_loss < min_loss and epoch > 5e4:\n",
    "        min_loss = epoch_loss\n",
    "        torch.save(model.state_dict(), f'cnp_on_latent_model.pt')\n",
    "\n",
    "    avg_loss += epoch_loss\n",
    "\n",
    "    if epoch % 100 == 0:\n",
    "        print(\"Epoch: {}, Loss: {}\".format(epoch, avg_loss/100))\n",
    "        avg_loss = 0"
   ]
  },
  {
   "cell_type": "code",
   "execution_count": 5,
   "metadata": {},
   "outputs": [
    {
     "name": "stdout",
     "output_type": "stream",
     "text": [
      "torch.Size([128, 1, 256])\n"
     ]
    }
   ],
   "source": [
    "model = CNP().to(device)\n",
    "model.load_state_dict(torch.load('cnp_on_latent_model.pt'))\n",
    "model.eval()\n",
    "\n",
    "batch_size = 128\n",
    "o, t, tr = get_batch(x, y, torch.arange(batch_size))\n",
    "\n",
    "with torch.no_grad():\n",
    "    _, r = model(o, t)\n",
    "\n",
    "print(r.shape)"
   ]
  },
  {
   "cell_type": "code",
   "execution_count": 6,
   "metadata": {},
   "outputs": [
    {
     "name": "stdout",
     "output_type": "stream",
     "text": [
      "1.4453125\n",
      "[3 0 2 3 0 2 0 1 0 1 0 3 0 1 0 3 3 2 2 1 0 2 2 3 0 2 0 1 1 2 2 2 2 1 2 3 3\n",
      " 2 0 1 0 2 2 1 3 2 2 1 2 1 0 1 2 1 2 1 3 1 2 2 2 2 2 3 3 0 0 2 2 2 0 1 0 1\n",
      " 0 2 3 2 2 2 3 1 0 1 0 1 0 3 0 2 2 1 3 1 2 3 3 2 0 2 3 1 0 2 3 1 0 1 3 1 2\n",
      " 2 0 1 2 1 1 0 2 1 1 1 0 1 0 2 2 1]\n"
     ]
    },
    {
     "data": {
      "text/plain": [
       "<matplotlib.collections.PathCollection at 0x7fea5dee8af0>"
      ]
     },
     "execution_count": 6,
     "metadata": {},
     "output_type": "execute_result"
    },
    {
     "data": {
      "image/png": "[encoded data removed]",
      "text/plain": [
       "<Figure size 432x288 with 1 Axes>"
      ]
     },
     "metadata": {
      "needs_background": "light"
     },
     "output_type": "display_data"
    }
   ],
   "source": [
    "import numpy as np\n",
    "from sklearn.cluster import KMeans\n",
    "from sklearn.decomposition import PCA\n",
    "\n",
    "latent_values = r.squeeze(1).cpu().numpy()\n",
    "kmeans = KMeans(n_clusters=4, random_state=100)\n",
    "labels = kmeans.fit_predict(latent_values)\n",
    "\n",
    "print(np.mean(labels), labels, sep='\\n')\n",
    "pca = PCA(n_components=2)\n",
    "reduced_latent = pca.fit_transform(latent_values)\n",
    "\n",
    "label_colors = []\n",
    "for i in labels:\n",
    "    label_colors.append(colors[i])\n",
    "plt.scatter(reduced_latent[:, 0], reduced_latent[:, 1], c=label_colors, s=30)\n"
   ]
  },
  {
   "cell_type": "code",
   "execution_count": 26,
   "metadata": {},
   "outputs": [
    {
     "name": "stdout",
     "output_type": "stream",
     "text": [
      "167036\n"
     ]
    }
   ],
   "source": [
    "pytorch_total_params = sum(p.numel() for p in model.parameters() if p.requires_grad)\n",
    "print(pytorch_total_params)"
   ]
  },
  {
   "cell_type": "code",
   "execution_count": null,
   "metadata": {},
   "outputs": [],
   "source": []
  }
 ],
 "metadata": {
  "kernelspec": {
   "display_name": "Python 3",
   "language": "python",
   "name": "python3"
  },
  "language_info": {
   "codemirror_mode": {
    "name": "ipython",
    "version": 3
   },
   "file_extension": ".py",
   "mimetype": "text/x-python",
   "name": "python",
   "nbconvert_exporter": "python",
   "pygments_lexer": "ipython3",
   "version": "3.8.10"
  },
  "orig_nbformat": 4,
  "vscode": {
   "interpreter": {
    "hash": "e7370f93d1d0cde622a1f8e1c04877d8463912d04d973331ad4851f04de6915a"
   }
  }
 },
 "nbformat": 4,
 "nbformat_minor": 2
}
