{
 "cells": [
  {
   "cell_type": "code",
   "execution_count": 1,
   "metadata": {},
   "outputs": [],
   "source": [
    "import torch\n",
    "import os\n",
    "from matplotlib import pyplot as plt\n",
    "from models.cnp import CNP\n",
    "from models.wta_cnp import WTA_CNP"
   ]
  },
  {
   "cell_type": "code",
   "execution_count": 2,
   "metadata": {},
   "outputs": [],
   "source": [
    "root_path = \"/home/yigit/projects/mbcnp/outputs/egg/10ea/\"\n",
    "run_id, model_folder = '1697012639', '/saved_models/'\n",
    "models_path = f'{root_path}{run_id}{model_folder}'\n",
    "out_path = f'{root_path}{run_id}/comparison_pca/'\n",
    "\n",
    "\n",
    "if not os.path.exists(out_path):\n",
    "    os.makedirs(out_path)\n",
    "\n",
    "cnp_model_path, wta_model_path = f'{models_path}cnp_on_synth.pt', f'{models_path}wta_on_synth.pt'"
   ]
  },
  {
   "cell_type": "code",
   "execution_count": 3,
   "metadata": {},
   "outputs": [
    {
     "name": "stdout",
     "output_type": "stream",
     "text": [
      "torch.Size([2, 200, 1])\n"
     ]
    }
   ],
   "source": [
    "y = torch.load(f'{root_path}{run_id}/y.pt')\n",
    "print(y.shape)"
   ]
  },
  {
   "cell_type": "code",
   "execution_count": 4,
   "metadata": {},
   "outputs": [
    {
     "data": {
      "text/plain": [
       "WTA_CNP(\n",
       "  (encoder): Sequential(\n",
       "    (0): Linear(in_features=2, out_features=128, bias=True)\n",
       "    (1): ReLU()\n",
       "    (2): Linear(in_features=128, out_features=128, bias=True)\n",
       "    (3): ReLU()\n",
       "    (4): Linear(in_features=128, out_features=128, bias=True)\n",
       "  )\n",
       "  (decoders): ModuleList(\n",
       "    (0-1): 2 x Sequential(\n",
       "      (0): Linear(in_features=129, out_features=128, bias=True)\n",
       "      (1): ReLU()\n",
       "      (2): Linear(in_features=128, out_features=2, bias=True)\n",
       "    )\n",
       "  )\n",
       "  (gate): Sequential(\n",
       "    (0): Linear(in_features=128, out_features=2, bias=True)\n",
       "    (1): Softmax(dim=-1)\n",
       "  )\n",
       ")"
      ]
     },
     "execution_count": 4,
     "metadata": {},
     "output_type": "execute_result"
    }
   ],
   "source": [
    "batch_size = 2\n",
    "cnp = CNP(input_dim=1, hidden_dim=128, output_dim=1, n_max_obs=6, n_max_tar=6, num_layers=3, batch_size=batch_size)\n",
    "wta = WTA_CNP(1, 1, 6, 6, [128, 128, 128], num_decoders=2, decoder_hidden_dims=[128, 128], batch_size=batch_size)\n",
    "\n",
    "cnp.load_state_dict(torch.load(cnp_model_path, map_location=torch.device('cpu')))\n",
    "wta.load_state_dict(torch.load(wta_model_path, map_location=torch.device('cpu')))\n",
    "\n",
    "cnp.eval()\n",
    "wta.eval()"
   ]
  },
  {
   "cell_type": "code",
   "execution_count": 68,
   "metadata": {},
   "outputs": [],
   "source": [
    "# obs = torch.Tensor([[0, 0], [1, 0]]).unsqueeze(0)\n",
    "# obs = torch.Tensor([0.5, y[1, 99, 0]]).unsqueeze(0).unsqueeze(0)\n",
    "# obs = torch.Tensor([0.0, 0.0]).unsqueeze(0).unsqueeze(0)\n",
    "# obs = torch.Tensor([1.0, 0.0]).unsqueeze(0).unsqueeze(0)\n",
    "# tar = torch.linspace(0, 1, 200).unsqueeze(0).unsqueeze(-1)\n",
    "# obs = torch.Tensor([[[0.0, 0.00]], [[1.0, 0.0]]])\n",
    "# obs = torch.Tensor([[[0.5, y[0, 99, 0]]], [[0.5, y[1, 99, 0]]]])\n",
    "# tar = torch.linspace(0.4, 0.6, 2).unsqueeze(0).unsqueeze(-1).repeat(2,1,1)\n",
    "\n",
    "def generate_input_batches(num_batches, x, y, test_ids=None):\n",
    "    batches = torch.zeros(len(test_ids), num_batches, batch_size, 1, 2)\n",
    "\n",
    "    for i, test_id in enumerate(test_ids):\n",
    "        batches[i, :, :, 0, 0] = x[0, test_id, 0].item()\n",
    "        y_up, y_low = y[0, test_id, 0], y[1, test_id, 0]\n",
    "        y_up, y_low = y[0, test_id, 0], 1.0\n",
    "        batch_y = torch.linspace(y_low, y_up, num_batches*batch_size).view(num_batches, batch_size)\n",
    "\n",
    "        for j in range(num_batches):\n",
    "            for k in range(batch_size):\n",
    "                batches[i, j, k, 0, 1] = batch_y[j, k]\n",
    "\n",
    "    return batches\n",
    "\n",
    "\n",
    "tar = torch.linspace(0, 1, 200).unsqueeze(0).unsqueeze(-1).repeat(batch_size,1,1)\n",
    "\n",
    "test_inds = torch.tensor([0])\n",
    "# test_inds = torch.arange(0, 200, 1)\n",
    "\n",
    "h=128\n",
    "num_tests = 1_000\n",
    "num_iters = num_tests//batch_size\n",
    "cnp_lat_rep, wta_lat_rep = torch.zeros(len(test_inds), num_tests, h), torch.zeros(len(test_inds), num_tests, h)\n",
    "\n",
    "all_batches = generate_input_batches(num_iters, tar, y, test_inds)\n",
    "\n",
    "obs = torch.zeros(batch_size, 1, 2)\n",
    "\n",
    "for a, batches in enumerate(all_batches):\n",
    "    for b, batch in enumerate(batches):\n",
    "        with torch.no_grad():\n",
    "            pred_cnp, lat_cnp = cnp(batch, tar)\n",
    "            pred_wta, gate, lat_wta = wta(batch, tar, True)\n",
    "            cur_ind = batch_size*b\n",
    "            cnp_lat_rep[a, cur_ind:cur_ind+2, :] = lat_cnp.squeeze(1)\n",
    "            wta_lat_rep[a, cur_ind:cur_ind+2, :] = lat_wta.squeeze(1)\n"
   ]
  },
  {
   "cell_type": "code",
   "execution_count": 69,
   "metadata": {},
   "outputs": [
    {
     "data": {
      "image/png": "[encoded data removed]",
      "text/plain": [
       "<Figure size 576x432 with 1 Axes>"
      ]
     },
     "metadata": {
      "needs_background": "light"
     },
     "output_type": "display_data"
    }
   ],
   "source": [
    "from sklearn.decomposition import PCA\n",
    "import matplotlib.pyplot as plt\n",
    "from matplotlib.lines import Line2D\n",
    "import seaborn as sns\n",
    "\n",
    "colors = [sns.color_palette('tab10')[0], sns.color_palette('tab10')[1]]\n",
    "sns.set_palette('tab10')\n",
    "\n",
    "plt.figure(figsize=(8, 6))\n",
    "\n",
    "for i in range(len(test_inds)):\n",
    "    # Apply PCA to cnp\n",
    "    pca = PCA(n_components=2)\n",
    "    cnp_lat_reduced = pca.fit_transform(cnp_lat_rep[i])\n",
    "\n",
    "    # Apply the same transformation to wta\n",
    "    wta_lat_reduced = pca.transform(wta_lat_rep[i])\n",
    "    # Now we have two tensors of size (num_tests, 2)\n",
    "\n",
    "    # Plotting\n",
    "    plt.scatter(cnp_lat_reduced[:, 0], cnp_lat_reduced[:, 1], color=colors[0])\n",
    "    plt.scatter(wta_lat_reduced[:, 0], wta_lat_reduced[:, 1], color=colors[1])\n",
    "\n",
    "line0 = Line2D([0], [0], label=f'CNMP', color=colors[0])\n",
    "line1 = Line2D([0], [0], label=f'CNEP-Select', color=colors[1])\n",
    "\n",
    "handles = [line0, line1]\n",
    "\n",
    "plt.grid(True)\n",
    "plt.title('PCA on Latent Representations')\n",
    "\n",
    "plt.legend(handles=handles)\n",
    "plt.tight_layout()\n",
    "plt.savefig(f'{out_path}pca_.png')\n",
    "plt.show()"
   ]
  },
  {
   "cell_type": "code",
   "execution_count": 78,
   "metadata": {},
   "outputs": [],
   "source": [
    "# single obs. between y[0, 0] and y[1, 0], tar full trajectory\n",
    "num_test = 100\n",
    "\n",
    "obs = torch.zeros(num_test, 1, 2)\n",
    "\n",
    "obs[:, 0, 0] = 0.5\n",
    "obs[:, 0, 1] = (torch.linspace(y[0, 99, 0], y[1, 99, 0], num_test+2))[1:-1]  # +2 to include the end points, 1:-1 to exclude the end points\n",
    "tar = torch.linspace(0, 1, 200).unsqueeze(0).unsqueeze(-1)\n",
    "\n",
    "plt_y_lim = torch.max(y) + 0.1\n",
    "plt.ylim((-plt_y_lim, plt_y_lim))\n",
    "\n",
    "comp_path = f'{root_path}{run_id}/comparison/'\n",
    "\n",
    "if not os.path.exists(comp_path):\n",
    "    os.makedirs(comp_path)\n",
    "\n",
    "for i in range(num_test):\n",
    "    o = obs[i].unsqueeze(0)\n",
    "    with torch.no_grad():\n",
    "        pred_cnp, _ = cnp(o, tar)\n",
    "        pred_wta, gate = wta(o, tar)\n",
    "\n",
    "    \n",
    "    plt.plot(torch.linspace(0, 1, 200), pred_cnp[0,:,0])\n",
    "    plt.plot(torch.linspace(0, 1, 200), pred_wta[0,0,:,0], 'tomato', alpha=max(0.2, gate[0, 0, 0].item()))\n",
    "    plt.plot(torch.linspace(0, 1, 200), pred_wta[1,0,:,0], 'lightcoral', alpha=max(0.2, gate[0, 0, 1].item()))\n",
    "\n",
    "    plt.scatter(obs[i, 0, 0], obs[i,0,1], c='k')\n",
    "    plt.plot(torch.linspace(0, 1, 200), y[0], 'k', alpha=0.25)\n",
    "    plt.plot(torch.linspace(0, 1, 200), y[1], 'k', alpha=0.25)\n",
    "\n",
    "    line = Line2D([0], [0], label=f'CNP', color='b')\n",
    "    line0 = Line2D([0], [0], label=f'CNEP-0: {gate[0, 0, 0].item():.4f}', color='tomato')\n",
    "    line1 = Line2D([0], [0], label=f'CNEP-1: {gate[0, 0, 1].item():.4f}', color='lightcoral')\n",
    "\n",
    "    handles = [line, line0, line1]\n",
    "\n",
    "    plt.grid(True)\n",
    "    plt.legend(handles=handles, loc='best')\n",
    "    plt.savefig(f'{root_path}{run_id}/comparison/int_{i}.png')\n",
    "    plt.close()"
   ]
  },
  {
   "cell_type": "code",
   "execution_count": null,
   "metadata": {},
   "outputs": [],
   "source": []
  }
 ],
 "metadata": {
  "kernelspec": {
   "display_name": "Python 3",
   "language": "python",
   "name": "python3"
  },
  "language_info": {
   "codemirror_mode": {
    "name": "ipython",
    "version": 3
   },
   "file_extension": ".py",
   "mimetype": "text/x-python",
   "name": "python",
   "nbconvert_exporter": "python",
   "pygments_lexer": "ipython3",
   "version": "3.8.10"
  },
  "orig_nbformat": 4
 },
 "nbformat": 4,
 "nbformat_minor": 2
}
