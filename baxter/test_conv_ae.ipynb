{
 "cells": [
  {
   "cell_type": "code",
   "execution_count": 1,
   "metadata": {},
   "outputs": [
    {
     "name": "stdout",
     "output_type": "stream",
     "text": [
      "Device : cuda:0\n"
     ]
    }
   ],
   "source": [
    "import torch\n",
    "import matplotlib.pyplot as plt\n",
    "import os\n",
    "\n",
    "from PIL import Image\n",
    "import torchvision.transforms as transforms\n",
    "\n",
    "from conv_autoenc import ConvAE\n",
    "\n",
    "torch.set_float32_matmul_precision('high')\n",
    "\n",
    "def get_free_gpu():\n",
    "    gpu_util = []\n",
    "    for i in range(torch.cuda.device_count()):\n",
    "        torch.cuda.set_device(i)  # Switch GPU\n",
    "#        gpu_util.append((i, torch.cuda.memory_stats()['reserved_bytes.all.current'] / (1024 ** 2)))\n",
    "        gpu_util.append((i, torch.cuda.utilization()))\n",
    "    gpu_util.sort(key=lambda x: x[1])\n",
    "    return gpu_util[0][0]\n",
    "\n",
    "if torch.cuda.is_available():\n",
    "    available_gpu = get_free_gpu()\n",
    "    if available_gpu == 0:\n",
    "        device = torch.device(\"cuda:0\")\n",
    "    else:\n",
    "        device = torch.device(f\"cuda:{available_gpu}\")\n",
    "else:\n",
    "    device = torch.device(\"cpu\")\n",
    "\n",
    "print(\"Device :\", device)"
   ]
  },
  {
   "cell_type": "code",
   "execution_count": 2,
   "metadata": {},
   "outputs": [],
   "source": [
    "batch_size = 8\n",
    "data = []\n",
    "\n",
    "img_folder = '/home/yigit/projects/cnep/baxter/data/img/'\n",
    "\n",
    "def crop_left(im): \n",
    "    return transforms.functional.crop(im, top=0, left=0, height=480, width=480)\n",
    "\n",
    "img_tf = transforms.Compose([\n",
    "    transforms.Lambda(crop_left),  # Crop the left side\n",
    "    transforms.Lambda(lambda x: x.convert('RGB')),  # Ensure the image is in RGB mode\n",
    "    transforms.ToTensor(),  # Convert the image to a tensor\n",
    "    transforms.Resize((64, 64), antialias=True),  # Downsample to 64x64\n",
    "    transforms.Normalize((0.5, 0.5, 0.5), (0.5, 0.5, 0.5))  # Normalize to range [-1, 1]\n",
    "])\n",
    "\n",
    "# iterate over all files in the in_folder\n",
    "for filename in os.listdir(img_folder):\n",
    "    if filename.endswith('.jpeg'):\n",
    "        img = img_tf(Image.open(os.path.join(img_folder, filename)))\n",
    "        data.append(img)\n",
    "\n",
    "imgs = torch.stack(data, dim=0)\n",
    "\n",
    "num_train = 24\n",
    "num_val = 8\n",
    "epoch_iter = num_train//batch_size\n",
    "v_epoch_iter = num_val//batch_size\n",
    "x = imgs[:num_train].to(device)\n",
    "vx = imgs[num_train:].to(device)"
   ]
  },
  {
   "cell_type": "code",
   "execution_count": 3,
   "metadata": {},
   "outputs": [],
   "source": [
    "model_ = ConvAE(filter_sizes=[1536,1024,768,384]).to(device)\n",
    "optimizer = torch.optim.Adam(lr=1e-4, params=model_.parameters())\n",
    "\n",
    "if torch.__version__ >= \"2.0\":\n",
    "    model = torch.compile(model_)"
   ]
  },
  {
   "cell_type": "code",
   "execution_count": 4,
   "metadata": {},
   "outputs": [
    {
     "name": "stdout",
     "output_type": "stream",
     "text": [
      "New best: 0.05002601444721222\n",
      "Epoch: 0, Loss: 0.0005969841778278351\n",
      "Epoch: 100, Loss: 0.004672905626309029\n",
      "New best: 0.002055875724181533\n",
      "Epoch: 200, Loss: 0.0001783235731757789\n",
      "Epoch: 300, Loss: 0.0001346674008285239\n",
      "New best: 0.0019958652555942535\n",
      "Epoch: 400, Loss: 0.00012626719052301875\n",
      "Epoch: 500, Loss: 9.552128479602592e-05\n",
      "New best: 0.0019300584681332111\n",
      "Epoch: 600, Loss: 0.00010831168552006908\n",
      "Epoch: 700, Loss: 8.023097999587968e-05\n"
     ]
    },
    {
     "ename": "KeyboardInterrupt",
     "evalue": "",
     "output_type": "error",
     "traceback": [
      "\u001b[0;31m---------------------------------------------------------------------------\u001b[0m",
      "\u001b[0;31mKeyboardInterrupt\u001b[0m                         Traceback (most recent call last)",
      "Cell \u001b[0;32mIn[4], line 39\u001b[0m\n\u001b[1;32m     36\u001b[0m     loss\u001b[38;5;241m.\u001b[39mbackward()\n\u001b[1;32m     37\u001b[0m     optimizer\u001b[38;5;241m.\u001b[39mstep()\n\u001b[0;32m---> 39\u001b[0m     mean_epoch_loss \u001b[38;5;241m+\u001b[39m\u001b[38;5;241m=\u001b[39m \u001b[43mloss\u001b[49m\u001b[38;5;241;43m.\u001b[39;49m\u001b[43mitem\u001b[49m\u001b[43m(\u001b[49m\u001b[43m)\u001b[49m\n\u001b[1;32m     41\u001b[0m mean_epoch_loss \u001b[38;5;241m/\u001b[39m\u001b[38;5;241m=\u001b[39m epoch_iter  \u001b[38;5;66;03m# mean loss over the epoch\u001b[39;00m\n\u001b[1;32m     42\u001b[0m training_loss\u001b[38;5;241m.\u001b[39mappend(mean_epoch_loss)\n",
      "\u001b[0;31mKeyboardInterrupt\u001b[0m: "
     ]
    }
   ],
   "source": [
    "import time\n",
    "import os\n",
    "timestamp = int(time.time())\n",
    "root_folder = f'output/ae/{str(timestamp)}/'\n",
    "\n",
    "if not os.path.exists(root_folder):\n",
    "    os.makedirs(root_folder)\n",
    "\n",
    "if not os.path.exists(f'{root_folder}saved_model/'):\n",
    "    os.makedirs(f'{root_folder}saved_model/')\n",
    "\n",
    "\n",
    "epochs = 1_000_000\n",
    "\n",
    "val_per_epoch = 200  # validation frequency\n",
    "min_val_error = 1_000_000\n",
    "\n",
    "mse_loss = torch.nn.MSELoss()\n",
    "\n",
    "training_loss, validation_error = [], []\n",
    "avg_loss_for_n_epochs = 0\n",
    "\n",
    "tr_loss_path = f'{root_folder}training_loss.pt'\n",
    "val_err_path = f'{root_folder}validation_error.pt'\n",
    "\n",
    "for epoch in range(epochs):\n",
    "    mean_epoch_loss = 0\n",
    "\n",
    "    img_ids = torch.randperm(num_train)[:batch_size*epoch_iter].chunk(epoch_iter)  # [:batch_size*epoch_iter] because nof_trajectories may be indivisible by batch_size\n",
    "\n",
    "    for i in range(epoch_iter):\n",
    "        optimizer.zero_grad()\n",
    "        input = x[img_ids[i]]\n",
    "        pred = model(input)\n",
    "        loss = model.loss(pred, input)  # mean loss over the batch\n",
    "        loss.backward()\n",
    "        optimizer.step()\n",
    "\n",
    "        mean_epoch_loss += loss.item()\n",
    "\n",
    "    mean_epoch_loss /= epoch_iter  # mean loss over the epoch\n",
    "    training_loss.append(mean_epoch_loss)\n",
    "\n",
    "    avg_loss_for_n_epochs += mean_epoch_loss\n",
    "\n",
    "    if epoch % val_per_epoch == 0:\n",
    "        with torch.no_grad():\n",
    "            v_traj_ids = torch.randperm(vx.shape[0])[:batch_size*v_epoch_iter].chunk(v_epoch_iter)\n",
    "            val_epoch_err = 0\n",
    "\n",
    "            for j in range(v_epoch_iter):\n",
    "                vinput = vx[v_traj_ids[j]]\n",
    "                vpred = model(vinput)\n",
    "                vloss = model.loss(vpred, vinput)\n",
    "                val_epoch_err += vloss.item()\n",
    "\n",
    "            if val_epoch_err < min_val_error:\n",
    "                min_val_error = val_epoch_err\n",
    "                print(f'New best: {min_val_error}')\n",
    "                torch.save(model_.state_dict(), f'{root_folder}saved_model/cae.pt')\n",
    "\n",
    "    if epoch % 100 == 0:\n",
    "        print(\"Epoch: {}, Loss: {}\".format(epoch, avg_loss_for_n_epochs/100))\n",
    "        avg_loss_for_n_epochs = 0"
   ]
  },
  {
   "cell_type": "code",
   "execution_count": null,
   "metadata": {},
   "outputs": [
    {
     "name": "stdout",
     "output_type": "stream",
     "text": [
      "cpu\n"
     ]
    }
   ],
   "source": [
    "# print the device model is on\n",
    "print(next(model.parameters()).device)"
   ]
  },
  {
   "cell_type": "code",
   "execution_count": null,
   "metadata": {},
   "outputs": [],
   "source": []
  }
 ],
 "metadata": {
  "kernelspec": {
   "display_name": "Python 3",
   "language": "python",
   "name": "python3"
  },
  "language_info": {
   "codemirror_mode": {
    "name": "ipython",
    "version": 3
   },
   "file_extension": ".py",
   "mimetype": "text/x-python",
   "name": "python",
   "nbconvert_exporter": "python",
   "pygments_lexer": "ipython3",
   "version": "3.8.10"
  }
 },
 "nbformat": 4,
 "nbformat_minor": 2
}
