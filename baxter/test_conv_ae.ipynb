{
 "cells": [
  {
   "cell_type": "code",
   "execution_count": 1,
   "metadata": {},
   "outputs": [
    {
     "name": "stdout",
     "output_type": "stream",
     "text": [
      "Device : cpu\n"
     ]
    }
   ],
   "source": [
    "import torch\n",
    "import matplotlib.pyplot as plt\n",
    "import os\n",
    "\n",
    "from PIL import Image\n",
    "import torchvision.transforms as transforms\n",
    "\n",
    "from conv_autoenc import ConvAE\n",
    "\n",
    "torch.set_float32_matmul_precision('high')\n",
    "\n",
    "def get_free_gpu():\n",
    "    gpu_util = []\n",
    "    for i in range(torch.cuda.device_count()):\n",
    "        torch.cuda.set_device(i)  # Switch GPU\n",
    "#        gpu_util.append((i, torch.cuda.memory_stats()['reserved_bytes.all.current'] / (1024 ** 2)))\n",
    "        gpu_util.append((i, torch.cuda.utilization()))\n",
    "    gpu_util.sort(key=lambda x: x[1])\n",
    "    return gpu_util[0][0]\n",
    "\n",
    "if torch.cuda.is_available() and False:\n",
    "    available_gpu = get_free_gpu()\n",
    "    if available_gpu == 0:\n",
    "        device = torch.device(\"cuda:0\")\n",
    "    else:\n",
    "        device = torch.device(f\"cuda:{available_gpu}\")\n",
    "else:\n",
    "    device = torch.device(\"cpu\")\n",
    "\n",
    "print(\"Device :\", device)"
   ]
  },
  {
   "cell_type": "code",
   "execution_count": 2,
   "metadata": {},
   "outputs": [
    {
     "name": "stdout",
     "output_type": "stream",
     "text": [
      "torch.Size([304, 3, 128, 128]) torch.Size([32, 3, 128, 128])\n"
     ]
    }
   ],
   "source": [
    "batch_size = 32\n",
    "data = []\n",
    "\n",
    "img_folder = '/home/yigit/projects/cnep/baxter/data/images/'\n",
    "\n",
    "def crop_left(im): \n",
    "    return transforms.functional.crop(im, top=0, left=0, height=420, width=560)\n",
    "\n",
    "img_tf = transforms.Compose([\n",
    "    transforms.Lambda(crop_left),  # Crop the left side\n",
    "    transforms.Lambda(lambda x: x.convert('RGB')),  # Ensure the image is in RGB mode\n",
    "    transforms.Resize(size=(128, 96), antialias=True),  # Downsample to 128xH\n",
    "    transforms.Pad(padding=(16, 0, 16, 0)), # Pad to 128x128\n",
    "    transforms.ToTensor(),  # Convert the image to a tensor\n",
    "    transforms.Normalize((0.5, 0.5, 0.5), (0.5, 0.5, 0.5))  # Normalize to range [-1, 1]\n",
    "])\n",
    "\n",
    "# iterate over all files in the in_folder\n",
    "for filename in os.listdir(img_folder):\n",
    "    if filename.endswith('.jpeg'):\n",
    "        img = img_tf(Image.open(os.path.join(img_folder, filename)))\n",
    "        data.append(img)\n",
    "\n",
    "imgs = torch.stack(data, dim=0)\n",
    "\n",
    "num_train = 304\n",
    "num_val = 32\n",
    "epoch_iter = num_train//batch_size\n",
    "v_epoch_iter = num_val//batch_size\n",
    "x = imgs[:num_train].to(device)\n",
    "vx = imgs[num_train:].to(device)\n",
    "\n",
    "print(x.shape, vx.shape)"
   ]
  },
  {
   "cell_type": "code",
   "execution_count": 3,
   "metadata": {},
   "outputs": [],
   "source": [
    "model_ = ConvAE(filter_sizes=[2048,1536,1024,512]).to(device)\n",
    "optimizer = torch.optim.Adam(lr=3e-4, params=model_.parameters())\n",
    "\n",
    "if torch.__version__ >= \"2.0\":\n",
    "    model = torch.compile(model_)"
   ]
  },
  {
   "cell_type": "code",
   "execution_count": 4,
   "metadata": {},
   "outputs": [
    {
     "name": "stdout",
     "output_type": "stream",
     "text": [
      "forward: torch.Size([32, 3, 128, 128])\n",
      "forward: torch.Size([32, 3, 128, 128])\n",
      "forward: torch.Size([32, 3, 128, 128])\n",
      "forward: torch.Size([32, 3, 128, 128])\n",
      "forward: torch.Size([32, 3, 128, 128])\n",
      "forward: torch.Size([32, 3, 128, 128])\n",
      "forward: torch.Size([32, 3, 128, 128])\n",
      "forward: torch.Size([32, 3, 128, 128])\n",
      "forward: torch.Size([32, 3, 128, 128])\n",
      "val: tensor([24, 14,  2, 29, 17, 28, 25, 16,  9, 15,  5, 21, 31, 20, 11, 12, 26,  7,\n",
      "         6, 30,  3, 18, 10, 23,  0, 13, 19,  4,  8,  1, 27, 22])\n",
      "torch.Size([32, 3, 128, 128])\n",
      "New best: 0.38692498207092285\n",
      "Epoch: 0, Loss: 0.0077288062704934015\n"
     ]
    }
   ],
   "source": [
    "import time\n",
    "import os\n",
    "timestamp = int(time.time())\n",
    "root_folder = f'output/ae/{str(timestamp)}/'\n",
    "\n",
    "if not os.path.exists(root_folder):\n",
    "    os.makedirs(root_folder)\n",
    "\n",
    "if not os.path.exists(f'{root_folder}saved_model/'):\n",
    "    os.makedirs(f'{root_folder}saved_model/')\n",
    "\n",
    "\n",
    "epochs = 5_000_000\n",
    "\n",
    "val_per_epoch = 500  # validation frequency\n",
    "min_val_error = 1_000_000\n",
    "\n",
    "mse_loss = torch.nn.MSELoss()\n",
    "\n",
    "training_loss, validation_error = [], []\n",
    "avg_loss_for_n_epochs = 0\n",
    "\n",
    "tr_loss_path = f'{root_folder}training_loss.pt'\n",
    "val_err_path = f'{root_folder}validation_error.pt'\n",
    "\n",
    "for epoch in range(epochs):\n",
    "    mean_epoch_loss = 0\n",
    "\n",
    "    img_ids = torch.randperm(num_train)[:batch_size*epoch_iter].chunk(epoch_iter)  # [:batch_size*epoch_iter] because nof_trajectories may be indivisible by batch_size\n",
    "\n",
    "    for i in range(epoch_iter):\n",
    "        optimizer.zero_grad()\n",
    "        input = x[img_ids[i]]\n",
    "        pred = model(input)\n",
    "        loss = model.loss(pred, input)  # mean loss over the batch\n",
    "        loss.backward()\n",
    "        optimizer.step()\n",
    "\n",
    "        mean_epoch_loss += loss.item()\n",
    "\n",
    "    mean_epoch_loss /= epoch_iter  # mean loss over the epoch\n",
    "    training_loss.append(mean_epoch_loss)\n",
    "\n",
    "    avg_loss_for_n_epochs += mean_epoch_loss\n",
    "\n",
    "    if epoch % val_per_epoch == 0:\n",
    "        with torch.no_grad():\n",
    "            v_img_ids = torch.randperm(num_val)[:batch_size*v_epoch_iter].chunk(v_epoch_iter)\n",
    "            val_epoch_err = 0\n",
    "\n",
    "            for j in range(v_epoch_iter):\n",
    "                vinput = vx[v_img_ids[j]]\n",
    "                vpred = model(vinput)\n",
    "                vloss = model.loss(vpred, vinput)\n",
    "                val_epoch_err += vloss.item()\n",
    "\n",
    "            if val_epoch_err < min_val_error:\n",
    "                min_val_error = val_epoch_err\n",
    "                print(f'New best: {min_val_error}')\n",
    "                torch.save(model_.state_dict(), f'{root_folder}saved_model/best_cae.pt')\n",
    "\n",
    "    if epoch % 100 == 0:\n",
    "        print(\"Epoch: {}, Loss: {}\".format(epoch, avg_loss_for_n_epochs/100))\n",
    "        avg_loss_for_n_epochs = 0\n",
    "        if epoch % 1000 == 0:\n",
    "            torch.save(model_.state_dict(), f'{root_folder}saved_model/last_cae.pt')"
   ]
  },
  {
   "cell_type": "code",
   "execution_count": 5,
   "metadata": {},
   "outputs": [
    {
     "name": "stdout",
     "output_type": "stream",
     "text": [
      "cpu\n"
     ]
    }
   ],
   "source": [
    "# print the device model is on\n",
    "print(next(model.parameters()).device)"
   ]
  },
  {
   "cell_type": "code",
   "execution_count": null,
   "metadata": {},
   "outputs": [],
   "source": []
  }
 ],
 "metadata": {
  "kernelspec": {
   "display_name": "Python 3",
   "language": "python",
   "name": "python3"
  },
  "language_info": {
   "codemirror_mode": {
    "name": "ipython",
    "version": 3
   },
   "file_extension": ".py",
   "mimetype": "text/x-python",
   "name": "python",
   "nbconvert_exporter": "python",
   "pygments_lexer": "ipython3",
   "version": "3.8.10"
  }
 },
 "nbformat": 4,
 "nbformat_minor": 2
}
