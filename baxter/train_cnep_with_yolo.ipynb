{
 "cells": [
  {
   "cell_type": "code",
   "execution_count": 1,
   "metadata": {},
   "outputs": [],
   "source": [
    "from ultralytics import YOLO\n",
    "import torch\n",
    "from torchvision import transforms\n",
    "from PIL import Image\n",
    "\n",
    "\n",
    "def crop_left(im): \n",
    "    return transforms.functional.crop(im, top=0, left=0, height=420, width=560)\n",
    "\n",
    "\n",
    "class FeatureExtractor:\n",
    "    def __init__(self, model):\n",
    "        self.model = model\n",
    "        self.features = []\n",
    "\n",
    "    def hook(self, module, input, output):\n",
    "        self.features.append(output)\n",
    "\n",
    "    def register_hooks(self, layer_names):\n",
    "        self.hooks = []\n",
    "        for name, module in self.model.named_modules():\n",
    "            if name in layer_names:\n",
    "                hook = module.register_forward_hook(self.hook)\n",
    "                self.hooks.append(hook)\n",
    "\n",
    "    def remove_hooks(self):\n",
    "        for hook in self.hooks:\n",
    "            hook.remove()\n",
    "\n",
    "    def extract_features(self, img_path):\n",
    "        self.features = []\n",
    "        img = Image.open(img_path).convert('RGB')  # Load image using PIL\n",
    "        transform = transforms.Compose([\n",
    "            transforms.Lambda(crop_left),  # Crop the left side\n",
    "            transforms.Pad(padding=(40, 110, 40, 110)), # Pad to 640x640\n",
    "            transforms.ToTensor()\n",
    "        ])\n",
    "        img = transform(img).unsqueeze(0)  # Transform to tensor and add batch dimension\n",
    "        self.model(img)\n",
    "        return self.features\n",
    "\n",
    "# Initialize YOLO model\n",
    "model = YOLO('yolov8m.pt')\n",
    "\n",
    "# Initialize the feature extractor\n",
    "feature_extractor = FeatureExtractor(model)\n",
    "\n",
    "# Register hooks on the desired layers (use appropriate layer names)\n",
    "layer_names = ['model.model.17']  # Example layer names, update accordingly\n",
    "feature_extractor.register_hooks(layer_names)"
   ]
  },
  {
   "cell_type": "code",
   "execution_count": 2,
   "metadata": {},
   "outputs": [],
   "source": [
    "# num_demos = 24\n",
    "# for i in range(num_demos):\n",
    "#     img_path = f'data/{i}/img.jpeg'\n",
    "#     features = feature_extractor.extract_features(img_path)\n",
    "#     # print(f\"Features for image {i}: {features}\")\n",
    "#     print(features[0].shape)\n",
    "\n",
    "# # Remove hooks after extraction\n",
    "# feature_extractor.remove_hooks()\n"
   ]
  },
  {
   "cell_type": "code",
   "execution_count": 3,
   "metadata": {},
   "outputs": [
    {
     "name": "stdout",
     "output_type": "stream",
     "text": [
      "\n",
      "0: 640x640 1 cup, 12.4ms\n",
      "Speed: 0.6ms preprocess, 12.4ms inference, 331.2ms postprocess per image at shape (1, 3, 640, 640)\n"
     ]
    },
    {
     "ename": "IndexError",
     "evalue": "list index out of range",
     "output_type": "error",
     "traceback": [
      "\u001b[0;31m---------------------------------------------------------------------------\u001b[0m",
      "\u001b[0;31mIndexError\u001b[0m                                Traceback (most recent call last)",
      "Cell \u001b[0;32mIn[3], line 31\u001b[0m\n\u001b[1;32m     28\u001b[0m     ids \u001b[38;5;241m=\u001b[39m torch\u001b[38;5;241m.\u001b[39mlinspace(\u001b[38;5;241m0\u001b[39m, \u001b[38;5;28mlen\u001b[39m(temp_data), t_steps)\u001b[38;5;241m.\u001b[39mint()\n\u001b[1;32m     30\u001b[0m     \u001b[38;5;28;01mfor\u001b[39;00m j \u001b[38;5;129;01min\u001b[39;00m \u001b[38;5;28mrange\u001b[39m(t_steps):\n\u001b[0;32m---> 31\u001b[0m         trajs[i, j] \u001b[38;5;241m=\u001b[39m torch\u001b[38;5;241m.\u001b[39mtensor(\u001b[43mtemp_data\u001b[49m\u001b[43m[\u001b[49m\u001b[43mids\u001b[49m\u001b[43m[\u001b[49m\u001b[43mj\u001b[49m\u001b[43m]\u001b[49m\u001b[43m]\u001b[49m)\n\u001b[1;32m     33\u001b[0m torch\u001b[38;5;241m.\u001b[39msave(trajs, \u001b[38;5;124m'\u001b[39m\u001b[38;5;124mtrajs.pt\u001b[39m\u001b[38;5;124m'\u001b[39m)\n\u001b[1;32m     34\u001b[0m torch\u001b[38;5;241m.\u001b[39msave(feats, \u001b[38;5;124m'\u001b[39m\u001b[38;5;124mfeats.pt\u001b[39m\u001b[38;5;124m'\u001b[39m)\n",
      "\u001b[0;31mIndexError\u001b[0m: list index out of range"
     ]
    }
   ],
   "source": [
    "import os\n",
    "import csv\n",
    "\n",
    "\n",
    "t_steps = 400\n",
    "\n",
    "num_demos = 24\n",
    "\n",
    "trajs = torch.zeros(num_demos, t_steps, 8)\n",
    "feats = torch.zeros(num_demos, 576*40*40)\n",
    "\n",
    "for i in range(num_demos):\n",
    "    img_path = f'data/{i}/img.jpeg'\n",
    "    features = feature_extractor.extract_features(img_path)\n",
    "    feats[i] = features[0].view(-1)\n",
    "\n",
    "    data_folder = f'/home/yigit/projects/cnep/baxter/data/{i}/'\n",
    "    # iterate over all files in the in_folder\n",
    "    for filename in os.listdir(data_folder):\n",
    "        d = os.path.join(data_folder, filename)\n",
    "        if filename.endswith('.csv'):\n",
    "            temp_data = []\n",
    "            with open(d, 'r') as f:\n",
    "                for j, line in enumerate(csv.reader(f)):\n",
    "                    if j > 0:\n",
    "                        temp_data.append([float(line[3]), float(line[4]), float(line[5]), float(line[6]), float(line[7]), float(line[8]), float(line[9]), float(line[10])])  # p, q, gripper\n",
    "\n",
    "    ids = torch.linspace(0, len(temp_data)-1, t_steps).int()\n",
    "\n",
    "    for j in range(t_steps):\n",
    "        trajs[i, j] = torch.tensor(temp_data[ids[j]])\n",
    "\n",
    "torch.save(trajs, 'trajs.pt')\n",
    "torch.save(feats, 'feats.pt')\n",
    "                        "
   ]
  },
  {
   "cell_type": "code",
   "execution_count": 7,
   "metadata": {},
   "outputs": [
    {
     "data": {
      "text/plain": [
       "tensor(1158, dtype=torch.int32)"
      ]
     },
     "execution_count": 7,
     "metadata": {},
     "output_type": "execute_result"
    }
   ],
   "source": [
    "ids[j]"
   ]
  },
  {
   "cell_type": "code",
   "execution_count": null,
   "metadata": {},
   "outputs": [],
   "source": []
  }
 ],
 "metadata": {
  "kernelspec": {
   "display_name": "base",
   "language": "python",
   "name": "python3"
  },
  "language_info": {
   "codemirror_mode": {
    "name": "ipython",
    "version": 3
   },
   "file_extension": ".py",
   "mimetype": "text/x-python",
   "name": "python",
   "nbconvert_exporter": "python",
   "pygments_lexer": "ipython3",
   "version": "3.10.13"
  }
 },
 "nbformat": 4,
 "nbformat_minor": 2
}
