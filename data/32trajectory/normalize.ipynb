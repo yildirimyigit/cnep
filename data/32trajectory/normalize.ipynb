{
 "cells": [
  {
   "cell_type": "code",
   "execution_count": 2,
   "metadata": {},
   "outputs": [],
   "source": [
    "# load y.npy and normalize all dimensions into [-1, 1]\n",
    "\n",
    "import numpy as np\n",
    "import os\n",
    "\n",
    "y = np.load('y.npy')\n",
    "min_max = np.zeros((2, y.shape[-1]))\n",
    "\n",
    "dy = y.shape[-1]\n",
    "\n",
    "for i in range(dy):\n",
    "    y_max = np.max(y[..., i])\n",
    "    y_min = np.min(y[..., i])\n",
    "    min_max[0, i] = y_min\n",
    "    min_max[1, i] = y_max\n",
    "    if y_max != y_min:\n",
    "        y[..., i] = (y[..., i] - y_min) / (y_max - y_min) * 2 - 1\n",
    "    else:\n",
    "        y[..., i] = 0"
   ]
  },
  {
   "cell_type": "code",
   "execution_count": 4,
   "metadata": {},
   "outputs": [],
   "source": [
    "# save min_max and new y\n",
    "np.save('y_normalized.npy', y)\n",
    "np.save('min_max.npy', min_max)"
   ]
  },
  {
   "cell_type": "code",
   "execution_count": null,
   "metadata": {},
   "outputs": [],
   "source": []
  }
 ],
 "metadata": {
  "kernelspec": {
   "display_name": "Python 3",
   "language": "python",
   "name": "python3"
  },
  "language_info": {
   "codemirror_mode": {
    "name": "ipython",
    "version": 3
   },
   "file_extension": ".py",
   "mimetype": "text/x-python",
   "name": "python",
   "nbconvert_exporter": "python",
   "pygments_lexer": "ipython3",
   "version": "3.10.12"
  }
 },
 "nbformat": 4,
 "nbformat_minor": 2
}
