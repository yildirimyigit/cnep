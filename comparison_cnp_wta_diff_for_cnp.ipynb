{
 "cells": [
  {
   "cell_type": "code",
   "execution_count": 14,
   "metadata": {},
   "outputs": [],
   "source": [
    "import torch\n",
    "from matplotlib import pyplot as plt\n",
    "from models.cnp import CNP\n",
    "from models.wta_cnp import WTA_CNP"
   ]
  },
  {
   "cell_type": "code",
   "execution_count": 15,
   "metadata": {},
   "outputs": [],
   "source": [
    "root_path = \"/home/yigit/projects/mbcnp/outputs/diff/\"\n",
    "run_id, model_folder = '1686154553', '/saved_models/'\n",
    "models_path = f'{root_path}{run_id}{model_folder}'\n",
    "\n",
    "cnp_model_path, wta_model_path = f'{models_path}cnp_on_synth.pt', f'{models_path}wta_on_synth.pt'"
   ]
  },
  {
   "cell_type": "code",
   "execution_count": 16,
   "metadata": {},
   "outputs": [
    {
     "data": {
      "text/plain": [
       "WTA_CNP(\n",
       "  (encoder): Sequential(\n",
       "    (0): Linear(in_features=2, out_features=128, bias=True)\n",
       "    (1): ReLU()\n",
       "    (2): Linear(in_features=128, out_features=128, bias=True)\n",
       "    (3): ReLU()\n",
       "    (4): Linear(in_features=128, out_features=256, bias=True)\n",
       "  )\n",
       "  (decoders): ModuleList(\n",
       "    (0-1): 2 x Sequential(\n",
       "      (0): Linear(in_features=257, out_features=256, bias=True)\n",
       "      (1): ReLU()\n",
       "      (2): Linear(in_features=256, out_features=128, bias=True)\n",
       "      (3): ReLU()\n",
       "      (4): Linear(in_features=128, out_features=2, bias=True)\n",
       "    )\n",
       "  )\n",
       "  (gate): Sequential(\n",
       "    (0): Linear(in_features=256, out_features=2, bias=True)\n",
       "    (1): Softmax(dim=-1)\n",
       "  )\n",
       ")"
      ]
     },
     "execution_count": 16,
     "metadata": {},
     "output_type": "execute_result"
    }
   ],
   "source": [
    "batch_size = 1\n",
    "cnp = CNP(input_dim=1, hidden_dim=256, output_dim=1, n_max_obs=6, n_max_tar=6, num_layers=3, batch_size=batch_size)\n",
    "wta = WTA_CNP(1, 1, 6, 6, [128, 128, 256], num_decoders=2, decoder_hidden_dims=[256, 128, 128], batch_size=batch_size)\n",
    "\n",
    "cnp.load_state_dict(torch.load(cnp_model_path))\n",
    "wta.load_state_dict(torch.load(wta_model_path))\n",
    "\n",
    "cnp.eval()\n",
    "wta.eval()"
   ]
  },
  {
   "cell_type": "code",
   "execution_count": 22,
   "metadata": {},
   "outputs": [
    {
     "name": "stdout",
     "output_type": "stream",
     "text": [
      "tensor([[[0.0000, 0.0000],\n",
      "         [0.1005, 0.2011]]])\n",
      "torch.Size([2, 1, 200, 2]) torch.Size([1, 200, 2])\n"
     ]
    }
   ],
   "source": [
    "obs = torch.Tensor([[0, 0], [0.1005, 0.2011]]).unsqueeze(0)\n",
    "# obs = torch.Tensor([0.5, -0.5]).unsqueeze(0).unsqueeze(0)\n",
    "# obs = torch.Tensor([0.0, 0.0]).unsqueeze(0).unsqueeze(0)\n",
    "#obs = torch.Tensor([[0, 0],[0.1005, -0.2011]]).unsqueeze(0)\n",
    "tar = torch.linspace(0, 1, 200).unsqueeze(0).unsqueeze(-1)\n",
    "\n",
    "print(obs)\n",
    "\n",
    "with torch.no_grad():\n",
    "    pred_cnp, _ = cnp(obs, tar)\n",
    "    pred_wta, gate = wta(obs, tar)\n",
    "\n",
    "print(pred_wta.shape, pred_cnp.shape)"
   ]
  },
  {
   "cell_type": "code",
   "execution_count": 23,
   "metadata": {},
   "outputs": [
    {
     "data": {
      "text/plain": [
       "<ErrorbarContainer object of 3 artists>"
      ]
     },
     "execution_count": 23,
     "metadata": {},
     "output_type": "execute_result"
    },
    {
     "data": {
      "image/png": "[encoded data removed]",
      "text/plain": [
       "<Figure size 432x288 with 1 Axes>"
      ]
     },
     "metadata": {
      "needs_background": "light"
     },
     "output_type": "display_data"
    }
   ],
   "source": [
    "plt.ylim((-2.5, 2.5))\n",
    "\n",
    "plt.errorbar(torch.linspace(0, 1, 200), pred_cnp[0,:,0], yerr=pred_cnp[0,:,1])\n",
    "# plt.plot(torch.linspace(0, 1, 200), pred_wta[1,0,:,0], 'k')"
   ]
  },
  {
   "cell_type": "code",
   "execution_count": 24,
   "metadata": {},
   "outputs": [
    {
     "data": {
      "text/plain": [
       "<ErrorbarContainer object of 3 artists>"
      ]
     },
     "execution_count": 24,
     "metadata": {},
     "output_type": "execute_result"
    },
    {
     "data": {
      "image/png": "[encoded data removed]",
      "text/plain": [
       "<Figure size 432x288 with 1 Axes>"
      ]
     },
     "metadata": {
      "needs_background": "light"
     },
     "output_type": "display_data"
    }
   ],
   "source": [
    "plt.ylim((-2.5, 2.5))\n",
    "ind = 0\n",
    "plt.errorbar(torch.linspace(0, 1, 200), pred_wta[ind,0,:,0], yerr=pred_wta[ind,0,:,1])"
   ]
  },
  {
   "cell_type": "code",
   "execution_count": 25,
   "metadata": {},
   "outputs": [
    {
     "data": {
      "text/plain": [
       "<matplotlib.collections.PathCollection at 0x7f226fda2880>"
      ]
     },
     "execution_count": 25,
     "metadata": {},
     "output_type": "execute_result"
    },
    {
     "data": {
      "image/png": "[encoded data removed]",
      "text/plain": [
       "<Figure size 432x288 with 1 Axes>"
      ]
     },
     "metadata": {
      "needs_background": "light"
     },
     "output_type": "display_data"
    }
   ],
   "source": [
    "plt.ylim((-0.7, 0.7))\n",
    "\n",
    "plt.plot(torch.linspace(0, 1, 200), pred_cnp[0,:,0])\n",
    "plt.plot(torch.linspace(0, 1, 200), pred_wta[0,0,:,0], 'r')\n",
    "plt.plot(torch.linspace(0, 1, 200), pred_wta[1,0,:,0], 'r')\n",
    "\n",
    "plt.plot(torch.linspace(0, 1, 200), z[0], 'g')\n",
    "plt.plot(torch.linspace(0, 1, 200), z[1], 'g')\n",
    "plt.scatter(obs[0, 0, 0], obs[0,0,1], c='k')\n",
    "plt.scatter(obs[0, 1, 0], obs[0,1,1], c='k')"
   ]
  },
  {
   "cell_type": "code",
   "execution_count": 11,
   "metadata": {},
   "outputs": [
    {
     "data": {
      "text/plain": [
       "tensor([[[0.1540, 0.8460]]])"
      ]
     },
     "execution_count": 11,
     "metadata": {},
     "output_type": "execute_result"
    }
   ],
   "source": [
    "gate"
   ]
  },
  {
   "cell_type": "code",
   "execution_count": null,
   "metadata": {},
   "outputs": [],
   "source": []
  }
 ],
 "metadata": {
  "kernelspec": {
   "display_name": "Python 3",
   "language": "python",
   "name": "python3"
  },
  "language_info": {
   "codemirror_mode": {
    "name": "ipython",
    "version": 3
   },
   "file_extension": ".py",
   "mimetype": "text/x-python",
   "name": "python",
   "nbconvert_exporter": "python",
   "pygments_lexer": "ipython3",
   "version": "3.8.10"
  },
  "orig_nbformat": 4
 },
 "nbformat": 4,
 "nbformat_minor": 2
}
