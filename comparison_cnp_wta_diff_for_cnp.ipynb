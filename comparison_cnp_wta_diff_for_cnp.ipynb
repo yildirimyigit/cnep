{
 "cells": [
  {
   "cell_type": "code",
   "execution_count": 25,
   "metadata": {},
   "outputs": [],
   "source": [
    "import torch\n",
    "from matplotlib import pyplot as plt\n",
    "from models.cnp import CNP\n",
    "from models.wta_cnp import WTA_CNP"
   ]
  },
  {
   "cell_type": "code",
   "execution_count": 26,
   "metadata": {},
   "outputs": [],
   "source": [
    "root_path = \"/home/yigit/projects/mbcnp/outputs/bread/\"\n",
    "run_id, model_folder = '1693157289', '/saved_models/'\n",
    "models_path = f'{root_path}{run_id}{model_folder}'\n",
    "\n",
    "cnp_model_path, wta_model_path = f'{models_path}cnp_on_synth.pt', f'{models_path}wta_on_synth.pt'"
   ]
  },
  {
   "cell_type": "code",
   "execution_count": 27,
   "metadata": {},
   "outputs": [
    {
     "name": "stdout",
     "output_type": "stream",
     "text": [
      "torch.Size([2, 200, 1])\n"
     ]
    }
   ],
   "source": [
    "y = torch.load(f'{root_path}{run_id}/y.pt')\n",
    "print(y.shape)"
   ]
  },
  {
   "cell_type": "code",
   "execution_count": 29,
   "metadata": {},
   "outputs": [
    {
     "data": {
      "text/plain": [
       "WTA_CNP(\n",
       "  (encoder): Sequential(\n",
       "    (0): Linear(in_features=2, out_features=160, bias=True)\n",
       "    (1): ReLU()\n",
       "    (2): Linear(in_features=160, out_features=160, bias=True)\n",
       "    (3): ReLU()\n",
       "    (4): Linear(in_features=160, out_features=160, bias=True)\n",
       "  )\n",
       "  (decoders): ModuleList(\n",
       "    (0-1): 2 x Sequential(\n",
       "      (0): Linear(in_features=161, out_features=160, bias=True)\n",
       "      (1): ReLU()\n",
       "      (2): Linear(in_features=160, out_features=160, bias=True)\n",
       "      (3): ReLU()\n",
       "      (4): Linear(in_features=160, out_features=2, bias=True)\n",
       "    )\n",
       "  )\n",
       "  (gate): Sequential(\n",
       "    (0): Linear(in_features=160, out_features=2, bias=True)\n",
       "    (1): Softmax(dim=-1)\n",
       "  )\n",
       ")"
      ]
     },
     "execution_count": 29,
     "metadata": {},
     "output_type": "execute_result"
    }
   ],
   "source": [
    "batch_size = 1\n",
    "cnp = CNP(input_dim=1, hidden_dim=200, output_dim=1, n_max_obs=6, n_max_tar=6, num_layers=3, batch_size=batch_size)\n",
    "wta = WTA_CNP(1, 1, 6, 6, [160, 160, 160], num_decoders=2, decoder_hidden_dims=[160, 160, 160], batch_size=batch_size)\n",
    "\n",
    "# cnp = CNP(input_dim=1, hidden_dim=256, output_dim=1, n_max_obs=6, n_max_tar=6, num_layers=3, batch_size=batch_size)\n",
    "# wta = WTA_CNP(1, 1, 6, 6, [216, 216, 216], num_decoders=2, decoder_hidden_dims=[216, 216, 216], batch_size=batch_size)\n",
    "\n",
    "cnp.load_state_dict(torch.load(cnp_model_path, map_location=torch.device('cpu')))\n",
    "wta.load_state_dict(torch.load(wta_model_path, map_location=torch.device('cpu')))\n",
    "\n",
    "cnp.eval()\n",
    "wta.eval()"
   ]
  },
  {
   "cell_type": "code",
   "execution_count": 36,
   "metadata": {},
   "outputs": [
    {
     "name": "stdout",
     "output_type": "stream",
     "text": [
      "torch.Size([2, 1, 2]) torch.Size([2, 200, 1])\n"
     ]
    },
    {
     "ename": "RuntimeError",
     "evalue": "The expanded size of the tensor (1) must match the existing size (2) at non-singleton dimension 0.  Target sizes: [1, 200, 2].  Tensor sizes: [2, 200, 2]",
     "output_type": "error",
     "traceback": [
      "\u001b[0;31m---------------------------------------------------------------------------\u001b[0m",
      "\u001b[0;31mRuntimeError\u001b[0m                              Traceback (most recent call last)",
      "Cell \u001b[0;32mIn[36], line 16\u001b[0m\n\u001b[1;32m     14\u001b[0m \u001b[39mwith\u001b[39;00m torch\u001b[39m.\u001b[39mno_grad():\n\u001b[1;32m     15\u001b[0m     pred_cnp, _ \u001b[39m=\u001b[39m cnp(obs, tar)\n\u001b[0;32m---> 16\u001b[0m     pred_wta, gate \u001b[39m=\u001b[39m wta(obs, tar)\n\u001b[1;32m     18\u001b[0m \u001b[39mprint\u001b[39m(pred_wta\u001b[39m.\u001b[39mshape, pred_cnp\u001b[39m.\u001b[39mshape)\n\u001b[1;32m     19\u001b[0m \u001b[39mprint\u001b[39m(gate)\n",
      "File \u001b[0;32m~/.local/lib/python3.10/site-packages/torch/nn/modules/module.py:1501\u001b[0m, in \u001b[0;36mModule._call_impl\u001b[0;34m(self, *args, **kwargs)\u001b[0m\n\u001b[1;32m   1496\u001b[0m \u001b[39m# If we don't have any hooks, we want to skip the rest of the logic in\u001b[39;00m\n\u001b[1;32m   1497\u001b[0m \u001b[39m# this function, and just call forward.\u001b[39;00m\n\u001b[1;32m   1498\u001b[0m \u001b[39mif\u001b[39;00m \u001b[39mnot\u001b[39;00m (\u001b[39mself\u001b[39m\u001b[39m.\u001b[39m_backward_hooks \u001b[39mor\u001b[39;00m \u001b[39mself\u001b[39m\u001b[39m.\u001b[39m_backward_pre_hooks \u001b[39mor\u001b[39;00m \u001b[39mself\u001b[39m\u001b[39m.\u001b[39m_forward_hooks \u001b[39mor\u001b[39;00m \u001b[39mself\u001b[39m\u001b[39m.\u001b[39m_forward_pre_hooks\n\u001b[1;32m   1499\u001b[0m         \u001b[39mor\u001b[39;00m _global_backward_pre_hooks \u001b[39mor\u001b[39;00m _global_backward_hooks\n\u001b[1;32m   1500\u001b[0m         \u001b[39mor\u001b[39;00m _global_forward_hooks \u001b[39mor\u001b[39;00m _global_forward_pre_hooks):\n\u001b[0;32m-> 1501\u001b[0m     \u001b[39mreturn\u001b[39;00m forward_call(\u001b[39m*\u001b[39;49margs, \u001b[39m*\u001b[39;49m\u001b[39m*\u001b[39;49mkwargs)\n\u001b[1;32m   1502\u001b[0m \u001b[39m# Do not call functions when jit is used\u001b[39;00m\n\u001b[1;32m   1503\u001b[0m full_backward_hooks, non_full_backward_hooks \u001b[39m=\u001b[39m [], []\n",
      "File \u001b[0;32m~/projects/mbcnp/models/wta_cnp.py:78\u001b[0m, in \u001b[0;36mWTA_CNP.forward\u001b[0;34m(self, obs, tar)\u001b[0m\n\u001b[1;32m     75\u001b[0m pred \u001b[39m=\u001b[39m torch\u001b[39m.\u001b[39mzeros(\u001b[39mself\u001b[39m\u001b[39m.\u001b[39mnum_decoders, \u001b[39mself\u001b[39m\u001b[39m.\u001b[39mbatch_size, n_t, \u001b[39mself\u001b[39m\u001b[39m.\u001b[39moutput_dim\u001b[39m*\u001b[39m\u001b[39m2\u001b[39m, device\u001b[39m=\u001b[39mtar\u001b[39m.\u001b[39mdevice)  \u001b[39m# tar is used to get device\u001b[39;00m\n\u001b[1;32m     77\u001b[0m \u001b[39mfor\u001b[39;00m i \u001b[39min\u001b[39;00m \u001b[39mrange\u001b[39m(\u001b[39mself\u001b[39m\u001b[39m.\u001b[39mnum_decoders):\n\u001b[0;32m---> 78\u001b[0m     pred[i] \u001b[39m=\u001b[39m \u001b[39mself\u001b[39m\u001b[39m.\u001b[39mdecoders[i](rep_tar)\n\u001b[1;32m     80\u001b[0m gate_vals \u001b[39m=\u001b[39m \u001b[39mself\u001b[39m\u001b[39m.\u001b[39mgate(encoded_rep)  \u001b[39m# (batch_size, num_decoders)\u001b[39;00m\n\u001b[1;32m     82\u001b[0m \u001b[39mreturn\u001b[39;00m pred, gate_vals\n",
      "\u001b[0;31mRuntimeError\u001b[0m: The expanded size of the tensor (1) must match the existing size (2) at non-singleton dimension 0.  Target sizes: [1, 200, 2].  Tensor sizes: [2, 200, 2]"
     ]
    }
   ],
   "source": [
    "# obs = torch.Tensor([[0, 0], [1, 0]]).unsqueeze(0)\n",
    "# obs = torch.Tensor([0.5, y[1, 99, 0]]).unsqueeze(0).unsqueeze(0)\n",
    "# obs = torch.Tensor([0.0, 0.0]).unsqueeze(0).unsqueeze(0)\n",
    "obs = torch.Tensor([1.0, 0.0]).unsqueeze(0).unsqueeze(0)\n",
    "tar = torch.linspace(0, 1, 200).unsqueeze(0).unsqueeze(-1)\n",
    "\n",
    "obs = torch.Tensor([[[0.0, 0.00]], [[1.0, 0.0]]])\n",
    "# obs = torch.Tensor([[[0.5, y[0, 99, 0]]], [[0.5, y[1, 99, 0]]]])\n",
    "tar = torch.linspace(0, 1, 200).unsqueeze(0).unsqueeze(-1).repeat(2,1,1)\n",
    "# tar = torch.linspace(0.4, 0.6, 2).unsqueeze(0).unsqueeze(-1).repeat(2,1,1)\n",
    "\n",
    "print(obs.shape, tar.shape)\n",
    "\n",
    "with torch.no_grad():\n",
    "    pred_cnp, _ = cnp(obs, tar)\n",
    "    pred_wta, gate = wta(obs, tar)\n",
    "\n",
    "print(pred_wta.shape, pred_cnp.shape)\n",
    "print(gate)"
   ]
  },
  {
   "cell_type": "code",
   "execution_count": 37,
   "metadata": {},
   "outputs": [
    {
     "data": {
      "image/png": "[encoded data removed]",
      "text/plain": [
       "<Figure size 640x480 with 1 Axes>"
      ]
     },
     "metadata": {},
     "output_type": "display_data"
    }
   ],
   "source": [
    "from matplotlib.lines import Line2D\n",
    "\n",
    "plt_y_lim = torch.max(y) + 0.1\n",
    "\n",
    "plt.ylim((-plt_y_lim, plt_y_lim))\n",
    "\n",
    "if batch_size == 1:\n",
    "    plt.plot(torch.linspace(0, 1, 200), pred_cnp[0,:,0])\n",
    "    plt.plot(torch.linspace(0, 1, 200), pred_wta[0,0,:,0], 'r', alpha=max(0.2, gate[0, 0, 0].item()))\n",
    "    plt.plot(torch.linspace(0, 1, 200), pred_wta[1,0,:,0], 'r', alpha=max(0.2, gate[0, 0, 1].item()))\n",
    "\n",
    "    plt.scatter(obs[0, 0, 0], obs[0,0,1], c='k')\n",
    "    if obs.shape[1] > 1:\n",
    "        plt.scatter(obs[0, 1, 0], obs[0,1,1], c='k')\n",
    "    plt.plot(torch.linspace(0, 1, 200), y[0], 'k', alpha=0.15)\n",
    "    plt.plot(torch.linspace(0, 1, 200), y[1], 'k', alpha=0.15)\n",
    "\n",
    "    line0 = Line2D([0], [0], label=f'gate0: {gate[0, 0, 0].item():.4f}', color='r')\n",
    "    line1 = Line2D([0], [0], label=f'gate1: {gate[0, 0, 1].item():.4f}', color='r')\n",
    "\n",
    "    handles = [line0, line1]\n",
    "\n",
    "    plt.legend(handles=handles, loc='upper right')\n",
    "else:\n",
    "    for i in range(obs.shape[0]):\n",
    "        plt.plot(torch.linspace(0, 1, 200), y[i], 'k', alpha=0.3)\n",
    "        plt.plot(torch.linspace(0, 1, 200), pred_cnp[i,:,0], 'b')\n",
    "\n",
    "        for j in range(gate.shape[-1]):\n",
    "            plt.plot(torch.linspace(0, 1, 200), pred_wta[j,i,:,0], 'r', alpha=max(0.2, gate[i, 0, j].item()))\n",
    "\n",
    "        for j in range(obs.shape[1]):\n",
    "            plt.scatter(obs[i, j, 0], obs[i,j,1], c='k')\n",
    "\n",
    "        print(gate[i, 0, :])\n",
    "        "
   ]
  },
  {
   "cell_type": "code",
   "execution_count": 15,
   "metadata": {},
   "outputs": [],
   "source": [
    "# single obs. between y[0, 0] and y[1, 0], tar full trajectory\n",
    "num_test = 10\n",
    "\n",
    "obs = torch.zeros(num_test, 1, 2)\n",
    "\n",
    "obs[:, 0, 0] = 1.0\n",
    "obs[:, 0, 1] = (torch.linspace(y[0, 0, 0], y[1, 0, 0], num_test+2))[1:-1]  # +2 to include the end points, 1:-1 to exclude the end points\n",
    "tar = torch.linspace(0, 1, 200).unsqueeze(0).unsqueeze(-1)\n",
    "\n",
    "plt_y_lim = torch.max(y) + 0.1\n",
    "plt.ylim((-plt_y_lim, plt_y_lim))\n",
    "\n",
    "for i in range(num_test):\n",
    "    o = obs[i].unsqueeze(0)\n",
    "    with torch.no_grad():\n",
    "        pred_cnp, _ = cnp(o, tar)\n",
    "        pred_wta, gate = wta(o, tar)\n",
    "\n",
    "    \n",
    "    plt.plot(torch.linspace(0, 1, 200), pred_cnp[0,:,0])\n",
    "    plt.plot(torch.linspace(0, 1, 200), pred_wta[0,0,:,0], 'r', alpha=max(0.2, gate[0, 0, 0].item()))\n",
    "    plt.plot(torch.linspace(0, 1, 200), pred_wta[1,0,:,0], 'purple', alpha=max(0.2, gate[0, 0, 1].item()))\n",
    "\n",
    "    plt.scatter(obs[i, 0, 0], obs[i,0,1], c='k')\n",
    "    plt.plot(torch.linspace(0, 1, 200), y[0], 'k', alpha=0.05)\n",
    "    plt.plot(torch.linspace(0, 1, 200), y[1], 'k', alpha=0.05)\n",
    "\n",
    "    line = Line2D([0], [0], label=f'CNP', color='b')\n",
    "    line0 = Line2D([0], [0], label=f'CNEP-0: {gate[0, 0, 0].item():.4f}', color='r')\n",
    "    line1 = Line2D([0], [0], label=f'CNEP-1: {gate[0, 0, 1].item():.4f}', color='purple')\n",
    "\n",
    "    handles = [line, line0, line1]\n",
    "\n",
    "    plt.legend(handles=handles, loc='upper right')\n",
    "    plt.savefig(f'{root_path}{run_id}/comparison/{i}.png')\n",
    "    plt.close()"
   ]
  },
  {
   "cell_type": "code",
   "execution_count": 27,
   "metadata": {},
   "outputs": [
    {
     "name": "stderr",
     "output_type": "stream",
     "text": [
      "/tmp/ipykernel_8279/1920264534.py:1: UserWarning: To copy construct from a tensor, it is recommended to use sourceTensor.clone().detach() or sourceTensor.clone().detach().requires_grad_(True), rather than torch.tensor(sourceTensor).\n",
      "  rr = torch.cat((torch.cat((torch.tensor(y[0, 80, :]), torch.tensor(y[0, 120, :])), dim=0).unsqueeze(0), torch.cat((torch.tensor(y[1, 80, :]), torch.tensor(y[1, 120, :])), dim=0).unsqueeze(0)), dim=0).unsqueeze(-1)\n"
     ]
    },
    {
     "data": {
      "text/plain": [
       "(tensor(-44.9983), tensor(-4.7696))"
      ]
     },
     "execution_count": 27,
     "metadata": {},
     "output_type": "execute_result"
    }
   ],
   "source": [
    "rr = torch.cat((torch.cat((torch.tensor(y[0, 80, :]), torch.tensor(y[0, 120, :])), dim=0).unsqueeze(0), torch.cat((torch.tensor(y[1, 80, :]), torch.tensor(y[1, 120, :])), dim=0).unsqueeze(0)), dim=0).unsqueeze(-1)\n",
    "# print(rr.shape)  # 2-2-1\n",
    "wta.loss(pred_wta, gate.squeeze(1), rr)"
   ]
  },
  {
   "cell_type": "code",
   "execution_count": 7,
   "metadata": {},
   "outputs": [],
   "source": [
    "# plt.ylim((-2.5, 2.5))\n",
    "\n",
    "# plt.errorbar(torch.linspace(0, 1, 200), pred_cnp[0,:,0], yerr=pred_cnp[0,:,1])\n",
    "# plt.plot(torch.linspace(0, 1, 200), pred_wta[1,0,:,0], 'k')"
   ]
  },
  {
   "cell_type": "code",
   "execution_count": 8,
   "metadata": {},
   "outputs": [],
   "source": [
    "# plt.ylim((-2.5, 2.5))\n",
    "# ind = 0\n",
    "# plt.errorbar(torch.linspace(0, 1, 200), pred_wta[ind,0,:,0], yerr=pred_wta[ind,0,:,1])"
   ]
  }
 ],
 "metadata": {
  "kernelspec": {
   "display_name": "Python 3",
   "language": "python",
   "name": "python3"
  },
  "language_info": {
   "codemirror_mode": {
    "name": "ipython",
    "version": 3
   },
   "file_extension": ".py",
   "mimetype": "text/x-python",
   "name": "python",
   "nbconvert_exporter": "python",
   "pygments_lexer": "ipython3",
   "version": "3.10.12"
  },
  "orig_nbformat": 4
 },
 "nbformat": 4,
 "nbformat_minor": 2
}
